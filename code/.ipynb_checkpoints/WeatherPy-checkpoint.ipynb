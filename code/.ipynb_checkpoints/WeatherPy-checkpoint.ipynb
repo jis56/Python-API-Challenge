{
 "cells": [
  {
   "cell_type": "markdown",
   "metadata": {},
   "source": [
    "# WeatherPy\n",
    "----\n",
    "\n",
    "#### Note\n",
    "* Instructions have been included for each segment. You do not have to follow them exactly, but they are included to help you think through the steps."
   ]
  },
  {
   "cell_type": "code",
   "execution_count": 1,
   "metadata": {
    "scrolled": true
   },
   "outputs": [],
   "source": [
    "# Dependencies and Setup\n",
    "import matplotlib.pyplot as plt\n",
    "import pandas as pd\n",
    "import numpy as np\n",
    "import requests\n",
    "import time\n",
    "from scipy.stats import linregress\n",
    "from scipy import stats\n",
    "\n",
    "# Import API key\n",
    "from config import weather_api_key\n",
    "\n",
    "# Incorporated citipy to determine city based on latitude and longitude\n",
    "from citipy import citipy\n",
    "\n",
    "# Output File (CSV)\n",
    "output_data_file = \"../output_data/cities.csv\"\n",
    "\n",
    "# Range of latitudes and longitudes\n",
    "lat_range = (-90, 90)\n",
    "lng_range = (-180, 180)"
   ]
  },
  {
   "cell_type": "markdown",
   "metadata": {},
   "source": [
    "## Generate Cities List"
   ]
  },
  {
   "cell_type": "code",
   "execution_count": 2,
   "metadata": {},
   "outputs": [
    {
     "data": {
      "text/plain": [
       "598"
      ]
     },
     "execution_count": 2,
     "metadata": {},
     "output_type": "execute_result"
    }
   ],
   "source": [
    "# List for holding lat_lngs and cities\n",
    "lat_lngs = []\n",
    "cities = []\n",
    "\n",
    "# Create a set of random lat and lng combinations\n",
    "lats = np.random.uniform(lat_range[0], lat_range[1], size=1500)\n",
    "lngs = np.random.uniform(lng_range[0], lng_range[1], size=1500)\n",
    "lat_lngs = zip(lats, lngs)\n",
    "\n",
    "# Identify nearest city for each lat, lng combination\n",
    "for lat_lng in lat_lngs:\n",
    "    city = citipy.nearest_city(lat_lng[0], lat_lng[1]).city_name\n",
    "    \n",
    "    # If the city is unique, then add it to a our cities list\n",
    "    if city not in cities:\n",
    "        cities.append(city)\n",
    "\n",
    "# Print the city count to confirm sufficient count\n",
    "len(cities)"
   ]
  },
  {
   "cell_type": "markdown",
   "metadata": {},
   "source": [
    "### Perform API Calls\n",
    "* Perform a weather check on each city using a series of successive API calls.\n",
    "* Include a print log of each city as it'sbeing processed (with the city number and city name).\n"
   ]
  },
  {
   "cell_type": "code",
   "execution_count": 3,
   "metadata": {},
   "outputs": [
    {
     "data": {
      "text/plain": [
       "{'coord': {'lon': 139.69, 'lat': 35.69},\n",
       " 'weather': [{'id': 802,\n",
       "   'main': 'Clouds',\n",
       "   'description': 'scattered clouds',\n",
       "   'icon': '03n'}],\n",
       " 'base': 'stations',\n",
       " 'main': {'temp': 60.1,\n",
       "  'feels_like': 56.98,\n",
       "  'temp_min': 59,\n",
       "  'temp_max': 61,\n",
       "  'pressure': 1015,\n",
       "  'humidity': 82},\n",
       " 'visibility': 10000,\n",
       " 'wind': {'speed': 8.05, 'deg': 310},\n",
       " 'clouds': {'all': 40},\n",
       " 'dt': 1603908304,\n",
       " 'sys': {'type': 1,\n",
       "  'id': 8074,\n",
       "  'country': 'JP',\n",
       "  'sunrise': 1603918814,\n",
       "  'sunset': 1603957769},\n",
       " 'timezone': 32400,\n",
       " 'id': 1850144,\n",
       " 'name': 'Tokyo',\n",
       " 'cod': 200}"
      ]
     },
     "execution_count": 3,
     "metadata": {},
     "output_type": "execute_result"
    }
   ],
   "source": [
    "url = \"http://api.openweathermap.org/data/2.5/weather?\"\n",
    "units = \"imperial\"\n",
    "query_url = f\"{url}appid={weather_api_key}&units={units}&q=\"\n",
    "response = requests.get(query_url +\"tokyo\").json()\n",
    "response"
   ]
  },
  {
   "cell_type": "code",
   "execution_count": 4,
   "metadata": {},
   "outputs": [
    {
     "name": "stdout",
     "output_type": "stream",
     "text": [
      "------------------------\n",
      "Beginning Data Retrieval\n",
      "------------------------\n",
      "Processing Record | rikitea\n",
      "Processing Record | mahebourg\n",
      "Processing Record | iqaluit\n",
      "Processing Record | albany\n",
      "Processing Record | oster\n",
      "City not found. Skipping...\n",
      "City not found. Skipping...\n",
      "Processing Record | hobart\n",
      "Processing Record | ribeira grande\n",
      "Processing Record | mar del plata\n",
      "Processing Record | tarko-sale\n",
      "Processing Record | hermanus\n",
      "Processing Record | lompoc\n",
      "Processing Record | carberry\n",
      "Processing Record | cidreira\n",
      "Processing Record | havre-saint-pierre\n",
      "Processing Record | chuy\n",
      "Processing Record | busselton\n",
      "Processing Record | ca mau\n",
      "Processing Record | mataura\n",
      "Processing Record | port alfred\n",
      "City not found. Skipping...\n",
      "Processing Record | georgetown\n",
      "Processing Record | bambous virieux\n",
      "Processing Record | sao joao da barra\n",
      "Processing Record | tilichiki\n",
      "Processing Record | pilibhit\n",
      "Processing Record | sola\n",
      "Processing Record | airai\n",
      "Processing Record | barrow\n",
      "Processing Record | nikolskoye\n",
      "Processing Record | ratnagiri\n",
      "Processing Record | ushuaia\n",
      "Processing Record | saint george\n",
      "Processing Record | chokurdakh\n",
      "Processing Record | queenstown\n",
      "City not found. Skipping...\n",
      "City not found. Skipping...\n",
      "Processing Record | isangel\n",
      "Processing Record | arraial do cabo\n",
      "Processing Record | raymond\n",
      "City not found. Skipping...\n",
      "Processing Record | san patricio\n",
      "Processing Record | fairbanks\n",
      "Processing Record | jamestown\n",
      "Processing Record | nishihara\n",
      "Processing Record | shache\n",
      "Processing Record | matagami\n",
      "Processing Record | faya\n",
      "Processing Record | ostrovnoy\n",
      "Processing Record | nikolayevsk-na-amure\n",
      "Processing Record | carahue\n",
      "Processing Record | port elizabeth\n",
      "Processing Record | bredasdorp\n",
      "Processing Record | berlevag\n",
      "City not found. Skipping...\n",
      "Processing Record | itarema\n",
      "Processing Record | mokhsogollokh\n",
      "City not found. Skipping...\n",
      "Processing Record | sarakhs\n",
      "Processing Record | saskylakh\n",
      "Processing Record | qaanaaq\n",
      "Processing Record | kingston upon hull\n",
      "Processing Record | dawei\n",
      "Processing Record | mitsamiouli\n",
      "Processing Record | solnechnyy\n",
      "Processing Record | tasiilaq\n",
      "Processing Record | kapaa\n",
      "Processing Record | dongsheng\n",
      "Processing Record | bethel\n",
      "Processing Record | huarmey\n",
      "Processing Record | udaipur\n",
      "Processing Record | aklavik\n",
      "Processing Record | te anau\n",
      "Processing Record | kaitangata\n",
      "Processing Record | vaini\n",
      "Processing Record | punta arenas\n",
      "Processing Record | luderitz\n",
      "Processing Record | mapiripan\n",
      "Processing Record | norman wells\n",
      "Processing Record | tuktoyaktuk\n",
      "Processing Record | nome\n",
      "Processing Record | portland\n",
      "Processing Record | namibe\n",
      "Processing Record | piacabucu\n",
      "Processing Record | mahon\n",
      "Processing Record | flin flon\n",
      "Processing Record | altayskoye\n",
      "Processing Record | trincomalee\n",
      "Processing Record | paamiut\n",
      "Processing Record | xining\n",
      "Processing Record | puerto ayora\n",
      "Processing Record | oporelu\n",
      "Processing Record | hilo\n",
      "Processing Record | andra\n",
      "Processing Record | sebinkarahisar\n",
      "Processing Record | provideniya\n",
      "Processing Record | ofaqim\n",
      "Processing Record | bengkulu\n",
      "Processing Record | saint-philippe\n",
      "Processing Record | macenta\n",
      "Processing Record | roebourne\n",
      "Processing Record | bad kissingen\n",
      "Processing Record | hithadhoo\n",
      "Processing Record | moron\n",
      "Processing Record | beyneu\n",
      "Processing Record | castro\n",
      "City not found. Skipping...\n",
      "Processing Record | necochea\n",
      "Processing Record | lebu\n",
      "Processing Record | puerto baquerizo moreno\n",
      "Processing Record | wonosobo\n",
      "Processing Record | takoradi\n",
      "City not found. Skipping...\n",
      "Processing Record | kununurra\n",
      "Processing Record | faanui\n",
      "Processing Record | narsaq\n",
      "Processing Record | novobirilyussy\n",
      "Processing Record | butaritari\n",
      "Processing Record | misratah\n",
      "Processing Record | souillac\n",
      "Processing Record | hambantota\n",
      "Processing Record | khatanga\n",
      "Processing Record | dolores\n",
      "Processing Record | east london\n",
      "Processing Record | alofi\n",
      "Processing Record | ulladulla\n",
      "Processing Record | orlik\n",
      "Processing Record | valley city\n",
      "Processing Record | aykhal\n",
      "Processing Record | dormidontovka\n",
      "Processing Record | salinopolis\n",
      "Processing Record | ormond beach\n",
      "Processing Record | saint-pierre\n",
      "Processing Record | samarai\n",
      "Processing Record | litovko\n",
      "Processing Record | bluff\n",
      "Processing Record | yeppoon\n",
      "Processing Record | la orilla\n",
      "Processing Record | ancud\n",
      "Processing Record | presidente medici\n",
      "Processing Record | sao miguel do araguaia\n",
      "Processing Record | atuona\n",
      "City not found. Skipping...\n",
      "Processing Record | rabo de peixe\n",
      "Processing Record | belaya gora\n",
      "Processing Record | laguna\n",
      "Processing Record | cartagena\n",
      "City not found. Skipping...\n",
      "Processing Record | pisco\n",
      "City not found. Skipping...\n",
      "Processing Record | suhbaatar\n",
      "Processing Record | bichura\n",
      "Processing Record | manama\n",
      "Processing Record | grand-santi\n",
      "Processing Record | new norfolk\n",
      "Processing Record | turukhansk\n",
      "Processing Record | erenhot\n",
      "Processing Record | aizkraukle\n",
      "Processing Record | muroto\n",
      "Processing Record | cape town\n",
      "Processing Record | sitka\n",
      "Processing Record | dikson\n",
      "City not found. Skipping...\n",
      "Processing Record | petropavlovsk-kamchatskiy\n",
      "Processing Record | okhotsk\n",
      "Processing Record | auki\n",
      "Processing Record | arinos\n",
      "Processing Record | gravdal\n",
      "Processing Record | naze\n",
      "Processing Record | talnakh\n",
      "Processing Record | thanesar\n",
      "Processing Record | fortuna\n",
      "Processing Record | yar-sale\n",
      "City not found. Skipping...\n",
      "Processing Record | sorland\n",
      "Processing Record | bereda\n",
      "City not found. Skipping...\n",
      "Processing Record | opuwo\n",
      "Processing Record | la ronge\n",
      "City not found. Skipping...\n",
      "Processing Record | lata\n",
      "Processing Record | taoudenni\n",
      "Processing Record | evreux\n",
      "Processing Record | kodiak\n",
      "Processing Record | nanortalik\n",
      "City not found. Skipping...\n",
      "Processing Record | nouakchott\n",
      "Processing Record | torbay\n",
      "Processing Record | codrington\n",
      "Processing Record | abu kamal\n",
      "Processing Record | tautira\n",
      "Processing Record | hovd\n",
      "Processing Record | bathsheba\n",
      "Processing Record | guerrero negro\n",
      "Processing Record | vincennes\n",
      "Processing Record | mwinilunga\n",
      "Processing Record | yulara\n",
      "Processing Record | carnarvon\n",
      "City not found. Skipping...\n",
      "Processing Record | vieira de leiria\n",
      "Processing Record | chittaurgarh\n",
      "Processing Record | mount gambier\n",
      "Processing Record | chapais\n",
      "Processing Record | pevek\n",
      "City not found. Skipping...\n",
      "Processing Record | los llanos de aridane\n",
      "Processing Record | haines junction\n",
      "Processing Record | falam\n",
      "Processing Record | kavaratti\n",
      "City not found. Skipping...\n",
      "Processing Record | kenora\n",
      "Processing Record | sao francisco de paula\n",
      "Processing Record | nazilli\n",
      "Processing Record | puri\n",
      "Processing Record | aripuana\n",
      "Processing Record | victoria\n",
      "Processing Record | nuuk\n",
      "Processing Record | manicore\n",
      "Processing Record | tiksi\n",
      "Processing Record | maltahohe\n",
      "Processing Record | ucluelet\n",
      "Processing Record | sonoita\n",
      "Processing Record | hualmay\n",
      "Processing Record | ilulissat\n",
      "Processing Record | goderich\n",
      "City not found. Skipping...\n",
      "Processing Record | zaozerne\n",
      "Processing Record | esperance\n",
      "Processing Record | lages\n",
      "Processing Record | vanavara\n",
      "Processing Record | tuatapere\n",
      "Processing Record | greenville\n",
      "Processing Record | guisa\n",
      "Processing Record | harindanga\n",
      "Processing Record | aswan\n",
      "Processing Record | kavieng\n",
      "Processing Record | beloha\n",
      "Processing Record | poum\n",
      "Processing Record | bestobe\n",
      "Processing Record | indian head\n",
      "City not found. Skipping...\n",
      "Processing Record | mbanza-ngungu\n",
      "Processing Record | lavrentiya\n",
      "Processing Record | margate\n",
      "Processing Record | avarua\n",
      "Processing Record | altar\n",
      "Processing Record | upernavik\n",
      "Processing Record | nantucket\n",
      "Processing Record | ketchikan\n",
      "Processing Record | salinas\n",
      "Processing Record | esterhazy\n",
      "Processing Record | kamaishi\n",
      "Processing Record | porto empedocle\n",
      "Processing Record | ankazoabo\n",
      "Processing Record | xichang\n",
      "Processing Record | svetlyy\n",
      "Processing Record | kloulklubed\n",
      "Processing Record | dumas\n",
      "Processing Record | dustlik\n",
      "Processing Record | hofn\n",
      "Processing Record | vestmanna\n",
      "Processing Record | prieska\n",
      "Processing Record | geraldton\n",
      "City not found. Skipping...\n",
      "Processing Record | abbeville\n",
      "Processing Record | batagay\n",
      "Processing Record | vanimo\n",
      "Processing Record | cabo san lucas\n",
      "Processing Record | araouane\n",
      "Processing Record | teahupoo\n",
      "Processing Record | cape coast\n",
      "Processing Record | itapissuma\n",
      "Processing Record | hervey bay\n",
      "Processing Record | chicama\n",
      "Processing Record | charlestown\n",
      "Processing Record | kruisfontein\n",
      "Processing Record | liepaja\n",
      "Processing Record | severo-kurilsk\n",
      "Processing Record | lubao\n",
      "Processing Record | kaseda\n",
      "Processing Record | meulaboh\n",
      "Processing Record | cherskiy\n",
      "Processing Record | kapit\n",
      "Processing Record | lasa\n",
      "Processing Record | sistranda\n",
      "Processing Record | shambu\n",
      "Processing Record | puerto narino\n",
      "Processing Record | korem\n",
      "Processing Record | bacabal\n",
      "Processing Record | japura\n",
      "Processing Record | trinidad\n",
      "Processing Record | brumado\n",
      "Processing Record | lac du bonnet\n",
      "Processing Record | constantine\n",
      "Processing Record | khani\n",
      "Processing Record | vorukh\n",
      "Processing Record | charters towers\n",
      "Processing Record | moose factory\n",
      "City not found. Skipping...\n",
      "Processing Record | mgandu\n",
      "Processing Record | popondetta\n",
      "Processing Record | dharchula\n",
      "Processing Record | karaton\n",
      "Processing Record | gabrovo\n",
      "Processing Record | arlit\n",
      "Processing Record | la paz\n",
      "Processing Record | moerai\n",
      "Processing Record | katsuura\n",
      "Processing Record | mayo\n",
      "Processing Record | pacific grove\n",
      "Processing Record | saldanha\n",
      "City not found. Skipping...\n",
      "Processing Record | jizan\n",
      "Processing Record | ust-kulom\n",
      "Processing Record | charleston\n",
      "Processing Record | college\n",
      "Processing Record | kahului\n",
      "Processing Record | longyearbyen\n",
      "City not found. Skipping...\n",
      "Processing Record | pantai remis\n",
      "Processing Record | havelock\n",
      "City not found. Skipping...\n",
      "Processing Record | thompson\n",
      "Processing Record | honiara\n",
      "Processing Record | vao\n",
      "Processing Record | port lincoln\n",
      "Processing Record | abu dhabi\n",
      "Processing Record | yaan\n",
      "Processing Record | tamandare\n",
      "Processing Record | santa cruz\n",
      "Processing Record | shetpe\n",
      "Processing Record | natal\n",
      "Processing Record | khelyulya\n",
      "Processing Record | oranjemund\n",
      "Processing Record | nizwa\n",
      "Processing Record | kanzaki\n",
      "Processing Record | olinda\n",
      "Processing Record | forecariah\n",
      "Processing Record | tiznit\n",
      "Processing Record | dingle\n",
      "Processing Record | alyangula\n",
      "Processing Record | fasa\n",
      "Processing Record | pelym\n",
      "Processing Record | paarl\n",
      "Processing Record | garowe\n",
      "Processing Record | calabozo\n",
      "Processing Record | sorong\n",
      "Processing Record | pandan\n",
      "Processing Record | along\n",
      "Processing Record | montalvo\n",
      "Processing Record | yellowknife\n",
      "Processing Record | acajutla\n",
      "Processing Record | neiafu\n",
      "Processing Record | arroyo\n",
      "City not found. Skipping...\n",
      "City not found. Skipping...\n",
      "Processing Record | coquimbo\n",
      "Processing Record | nicoya\n",
      "Processing Record | burns lake\n",
      "Processing Record | andenes\n",
      "Processing Record | shelburne\n",
      "Processing Record | baoro\n",
      "Processing Record | riyadh\n",
      "Processing Record | shahr-e babak\n",
      "Processing Record | putina\n",
      "Processing Record | orbetello\n",
      "Processing Record | gillette\n",
      "Processing Record | hobyo\n",
      "Processing Record | taksimo\n",
      "Processing Record | bayan\n",
      "Processing Record | kushikino\n",
      "Processing Record | pokhara\n",
      "Processing Record | ocean city\n",
      "Processing Record | berbera\n",
      "City not found. Skipping...\n",
      "Processing Record | bilma\n",
      "Processing Record | marsh harbour\n",
      "Processing Record | husavik\n",
      "Processing Record | champerico\n",
      "Processing Record | khash\n",
      "Processing Record | nemuro\n",
      "Processing Record | guane\n",
      "Processing Record | vardo\n",
      "City not found. Skipping...\n",
      "Processing Record | daru\n",
      "City not found. Skipping...\n",
      "Processing Record | tarakan\n",
      "Processing Record | nikki\n",
      "Processing Record | ziro\n",
      "Processing Record | esso\n",
      "Processing Record | tessalit\n",
      "Processing Record | brae\n",
      "Processing Record | chibombo\n",
      "Processing Record | bandipur\n",
      "Processing Record | yerbogachen\n",
      "Processing Record | bundaberg\n",
      "City not found. Skipping...\n",
      "Processing Record | sambava\n",
      "Processing Record | pemberton\n",
      "Processing Record | kukushtan\n",
      "Processing Record | buribay\n",
      "Processing Record | broome\n",
      "Processing Record | calbuco\n",
      "Processing Record | traverse city\n",
      "Processing Record | mizan teferi\n",
      "Processing Record | kiunga\n",
      "Processing Record | tura\n",
      "Processing Record | nanchong\n",
      "Processing Record | chalons-en-champagne\n",
      "Processing Record | salur\n",
      "Processing Record | chunskiy\n",
      "Processing Record | walvis bay\n",
      "Processing Record | panuco\n",
      "Processing Record | ariquemes\n",
      "Processing Record | taltal\n",
      "Processing Record | pitimbu\n",
      "Processing Record | jiangyou\n",
      "Processing Record | ixtapa\n",
      "Processing Record | verkhoyansk\n",
      "Processing Record | waverly\n",
      "Processing Record | kudahuvadhoo\n",
      "Processing Record | alim\n",
      "Processing Record | miravci\n",
      "Processing Record | matay\n",
      "City not found. Skipping...\n",
      "Processing Record | palmer\n",
      "Processing Record | brigantine\n",
      "Processing Record | port blair\n",
      "Processing Record | batagay-alyta\n",
      "Processing Record | changji\n",
      "Processing Record | hasaki\n",
      "Processing Record | santa cruz de la palma\n",
      "Processing Record | omboue\n",
      "Processing Record | xiangxiang\n",
      "Processing Record | bihariganj\n",
      "Processing Record | veraval\n",
      "City not found. Skipping...\n",
      "Processing Record | amboasary\n",
      "Processing Record | ewa beach\n",
      "Processing Record | boyuibe\n",
      "Processing Record | richards bay\n",
      "Processing Record | boston\n",
      "Processing Record | caetite\n",
      "City not found. Skipping...\n",
      "Processing Record | kulu\n",
      "Processing Record | sainte-maxime\n",
      "Processing Record | sao filipe\n",
      "Processing Record | high rock\n",
      "Processing Record | san jose\n",
      "Processing Record | lianran\n",
      "Processing Record | bandarbeyla\n",
      "Processing Record | hefei\n",
      "Processing Record | rumuruti\n",
      "Processing Record | sioux lookout\n",
      "Processing Record | clyde river\n",
      "Processing Record | clermont\n",
      "Processing Record | bahar\n",
      "Processing Record | leon\n",
      "Processing Record | west wendover\n",
      "Processing Record | salalah\n",
      "Processing Record | srednekolymsk\n",
      "Processing Record | carutapera\n",
      "Processing Record | uelzen\n",
      "Processing Record | semenyih\n",
      "Processing Record | peleduy\n",
      "Processing Record | tapalpa\n",
      "Processing Record | emerald\n",
      "Processing Record | sur\n",
      "Processing Record | arauco\n",
      "Processing Record | tambacounda\n",
      "Processing Record | dire dawa\n",
      "Processing Record | grand-lahou\n",
      "Processing Record | tucurui\n",
      "Processing Record | paciran\n",
      "City not found. Skipping...\n",
      "Processing Record | nabire\n",
      "Processing Record | kelowna\n",
      "Processing Record | yaya\n",
      "Processing Record | tual\n",
      "City not found. Skipping...\n",
      "Processing Record | udachnyy\n",
      "Processing Record | vila franca do campo\n",
      "Processing Record | dudinka\n",
      "Processing Record | karasburg\n",
      "Processing Record | belmonte\n",
      "Processing Record | vagur\n",
      "Processing Record | wattegama\n",
      "Processing Record | zabaykalsk\n",
      "Processing Record | wenling\n",
      "Processing Record | victor harbor\n",
      "Processing Record | dafeng\n",
      "Processing Record | mubi\n",
      "Processing Record | gat\n",
      "Processing Record | merauke\n",
      "Processing Record | bonavista\n",
      "Processing Record | grand baie\n",
      "Processing Record | gopalpur\n",
      "Processing Record | pozo colorado\n",
      "Processing Record | simpang\n",
      "Processing Record | evensk\n",
      "Processing Record | sayanogorsk\n",
      "Processing Record | pangnirtung\n",
      "Processing Record | kitgum\n",
      "Processing Record | cervo\n",
      "Processing Record | camacha\n",
      "City not found. Skipping...\n",
      "Processing Record | ahipara\n",
      "Processing Record | erdenet\n",
      "Processing Record | nyurba\n",
      "Processing Record | magistralnyy\n",
      "Processing Record | san quintin\n",
      "Processing Record | grand gaube\n",
      "Processing Record | marrakesh\n",
      "Processing Record | yakeshi\n",
      "City not found. Skipping...\n",
      "Processing Record | shangrao\n",
      "Processing Record | bodaybo\n",
      "City not found. Skipping...\n",
      "Processing Record | havoysund\n",
      "Processing Record | egvekinot\n",
      "Processing Record | nyagan\n",
      "Processing Record | pahrump\n",
      "Processing Record | karratha\n",
      "Processing Record | muscat\n",
      "Processing Record | yumen\n",
      "Processing Record | hamirpur\n",
      "Processing Record | platanos\n",
      "Processing Record | mont-dore\n",
      "Processing Record | yenagoa\n",
      "City not found. Skipping...\n",
      "Processing Record | tabou\n",
      "Processing Record | kingman\n",
      "City not found. Skipping...\n",
      "Processing Record | dunedin\n",
      "Processing Record | iquique\n",
      "Processing Record | balikpapan\n",
      "Processing Record | naryan-mar\n",
      "City not found. Skipping...\n",
      "Processing Record | leh\n",
      "Processing Record | marzuq\n",
      "Processing Record | erdaojiang\n",
      "Processing Record | cheney\n",
      "Processing Record | westport\n",
      "Processing Record | pointe michel\n",
      "Processing Record | marau\n",
      "Processing Record | ufimskiy\n",
      "Processing Record | ugoofaaru\n",
      "Processing Record | jacareacanga\n",
      "Processing Record | lorengau\n",
      "Processing Record | felanitx\n",
      "Processing Record | sibolga\n",
      "Processing Record | kisangani\n",
      "Processing Record | yacuiba\n",
      "Processing Record | comodoro rivadavia\n",
      "Processing Record | labuhan\n",
      "Processing Record | kortkeros\n",
      "Processing Record | goundam\n",
      "Processing Record | guiratinga\n",
      "Processing Record | komsomolskiy\n",
      "Processing Record | ponta do sol\n",
      "Processing Record | cockburn town\n",
      "Processing Record | fougamou\n",
      "Processing Record | tamasopo\n",
      "Processing Record | paka\n",
      "Processing Record | hamilton\n",
      "Processing Record | denizli\n",
      "Processing Record | san jeronimo\n",
      "Processing Record | champaign\n",
      "Processing Record | konstantinovka\n",
      "Processing Record | nizhniy tsasuchey\n",
      "Processing Record | dakar\n",
      "Processing Record | eureka\n",
      "City not found. Skipping...\n",
      "Processing Record | yanam\n",
      "Processing Record | ngunguru\n",
      "City not found. Skipping...\n",
      "Processing Record | ojinaga\n",
      "Processing Record | half moon bay\n",
      "Processing Record | pathein\n",
      "Processing Record | plouzane\n",
      "Processing Record | moreira sales\n",
      "City not found. Skipping...\n",
      "Processing Record | olavarria\n",
      "Processing Record | devaprayag\n",
      "Processing Record | morshansk\n",
      "Processing Record | elizabeth city\n",
      "Processing Record | mandera\n",
      "Processing Record | tignere\n",
      "Processing Record | tanabe\n",
      "Processing Record | tomigusuku\n",
      "Processing Record | jambi\n",
      "Processing Record | aldan\n",
      "Processing Record | tezu\n",
      "Processing Record | klaksvik\n",
      "Processing Record | abnub\n",
      "Processing Record | aasiaat\n",
      "Processing Record | nagua\n",
      "------------------------\n",
      "Data Retrieval Complete\n",
      "------------------------\n"
     ]
    }
   ],
   "source": [
    "cloudiness = []\n",
    "country = []\n",
    "date = []\n",
    "humidity = []\n",
    "lng = []\n",
    "lat = []\n",
    "max_temp = []\n",
    "wind = []\n",
    "final_city = []\n",
    "counter = 0\n",
    "\n",
    "print(\"------------------------\")\n",
    "print(\"Beginning Data Retrieval\")\n",
    "print(\"------------------------\")\n",
    "\n",
    "for city in cities:\n",
    "    try:\n",
    "        target_city=city\n",
    "        target_url = f\"{url}appid={weather_api_key}&units={units}&q={target_city}\"\n",
    "        response=requests.get(target_url).json()\n",
    "        final_city.append(response['name'])\n",
    "        cloudiness.append(response['clouds']['all'])\n",
    "        country.append(response['sys']['country'])\n",
    "        date.append(response['dt'])\n",
    "        humidity.append(response['main']['humidity'])\n",
    "        lng.append(response['coord']['lon'])\n",
    "        lat.append(response['coord']['lat'])\n",
    "        max_temp.append(response['main']['temp_max'])\n",
    "        wind.append(response['wind']['speed'])\n",
    "        \n",
    "        print(f\"Processing Record | {city}\")\n",
    "        \n",
    "    except:\n",
    "        print(\"City not found. Skipping...\")\n",
    "        pass\n",
    "    \n",
    "print(\"------------------------\")\n",
    "print(\"Data Retrieval Complete\")\n",
    "print(\"------------------------\")"
   ]
  },
  {
   "cell_type": "code",
   "execution_count": 33,
   "metadata": {},
   "outputs": [],
   "source": [
    "weather_df=pd.DataFrame({\"City\":final_city,\n",
    "                        \"Cloudiness\": cloudiness,\n",
    "                        \"Country\": country,\n",
    "                        \"Date\": date,\n",
    "                        \"Humidity\": humidity,\n",
    "                        \"Lat\": lat,\n",
    "                        \"Long\": lng,\n",
    "                        \"Max Temp\": max_temp,\n",
    "                        \"Wind Speed\": wind})"
   ]
  },
  {
   "cell_type": "markdown",
   "metadata": {},
   "source": [
    "### Convert Raw Data to DataFrame\n",
    "* Export the city data into a .csv.\n",
    "* Display the DataFrame"
   ]
  },
  {
   "cell_type": "code",
   "execution_count": 34,
   "metadata": {},
   "outputs": [],
   "source": [
    "weather_df.to_csv(output_data_file)"
   ]
  },
  {
   "cell_type": "code",
   "execution_count": 35,
   "metadata": {},
   "outputs": [
    {
     "data": {
      "text/html": [
       "<div>\n",
       "<style scoped>\n",
       "    .dataframe tbody tr th:only-of-type {\n",
       "        vertical-align: middle;\n",
       "    }\n",
       "\n",
       "    .dataframe tbody tr th {\n",
       "        vertical-align: top;\n",
       "    }\n",
       "\n",
       "    .dataframe thead th {\n",
       "        text-align: right;\n",
       "    }\n",
       "</style>\n",
       "<table border=\"1\" class=\"dataframe\">\n",
       "  <thead>\n",
       "    <tr style=\"text-align: right;\">\n",
       "      <th></th>\n",
       "      <th>City</th>\n",
       "      <th>Cloudiness</th>\n",
       "      <th>Country</th>\n",
       "      <th>Date</th>\n",
       "      <th>Humidity</th>\n",
       "      <th>Lat</th>\n",
       "      <th>Long</th>\n",
       "      <th>Max Temp</th>\n",
       "      <th>Wind Speed</th>\n",
       "    </tr>\n",
       "  </thead>\n",
       "  <tbody>\n",
       "    <tr>\n",
       "      <th>0</th>\n",
       "      <td>Rikitea</td>\n",
       "      <td>97</td>\n",
       "      <td>PF</td>\n",
       "      <td>1603908304</td>\n",
       "      <td>83</td>\n",
       "      <td>-23.12</td>\n",
       "      <td>-134.97</td>\n",
       "      <td>74.71</td>\n",
       "      <td>13.96</td>\n",
       "    </tr>\n",
       "    <tr>\n",
       "      <th>1</th>\n",
       "      <td>Mahébourg</td>\n",
       "      <td>67</td>\n",
       "      <td>MU</td>\n",
       "      <td>1603908305</td>\n",
       "      <td>73</td>\n",
       "      <td>-20.41</td>\n",
       "      <td>57.70</td>\n",
       "      <td>73.00</td>\n",
       "      <td>5.01</td>\n",
       "    </tr>\n",
       "    <tr>\n",
       "      <th>2</th>\n",
       "      <td>Iqaluit</td>\n",
       "      <td>90</td>\n",
       "      <td>CA</td>\n",
       "      <td>1603908305</td>\n",
       "      <td>61</td>\n",
       "      <td>63.75</td>\n",
       "      <td>-68.51</td>\n",
       "      <td>17.60</td>\n",
       "      <td>9.17</td>\n",
       "    </tr>\n",
       "    <tr>\n",
       "      <th>3</th>\n",
       "      <td>Albany</td>\n",
       "      <td>100</td>\n",
       "      <td>US</td>\n",
       "      <td>1603908095</td>\n",
       "      <td>87</td>\n",
       "      <td>42.60</td>\n",
       "      <td>-73.97</td>\n",
       "      <td>48.99</td>\n",
       "      <td>1.10</td>\n",
       "    </tr>\n",
       "    <tr>\n",
       "      <th>4</th>\n",
       "      <td>Ostër</td>\n",
       "      <td>0</td>\n",
       "      <td>UA</td>\n",
       "      <td>1603908046</td>\n",
       "      <td>100</td>\n",
       "      <td>50.95</td>\n",
       "      <td>30.88</td>\n",
       "      <td>52.00</td>\n",
       "      <td>4.47</td>\n",
       "    </tr>\n",
       "  </tbody>\n",
       "</table>\n",
       "</div>"
      ],
      "text/plain": [
       "        City  Cloudiness Country        Date  Humidity    Lat    Long  \\\n",
       "0    Rikitea          97      PF  1603908304        83 -23.12 -134.97   \n",
       "1  Mahébourg          67      MU  1603908305        73 -20.41   57.70   \n",
       "2    Iqaluit          90      CA  1603908305        61  63.75  -68.51   \n",
       "3     Albany         100      US  1603908095        87  42.60  -73.97   \n",
       "4      Ostër           0      UA  1603908046       100  50.95   30.88   \n",
       "\n",
       "   Max Temp  Wind Speed  \n",
       "0     74.71       13.96  \n",
       "1     73.00        5.01  \n",
       "2     17.60        9.17  \n",
       "3     48.99        1.10  \n",
       "4     52.00        4.47  "
      ]
     },
     "execution_count": 35,
     "metadata": {},
     "output_type": "execute_result"
    }
   ],
   "source": [
    "weather_df.head()"
   ]
  },
  {
   "cell_type": "markdown",
   "metadata": {},
   "source": [
    "## Inspect the data and remove the cities where the humidity > 100%.\n",
    "----\n",
    "Skip this step if there are no cities that have humidity > 100%. "
   ]
  },
  {
   "cell_type": "code",
   "execution_count": 36,
   "metadata": {},
   "outputs": [],
   "source": [
    "weather_df[\"Humidity\"] = pd.to_numeric(weather_df[\"Humidity\"])\n",
    "\n",
    "humidity_df = weather_df.loc[weather_df[\"Humidity\"] > 100]"
   ]
  },
  {
   "cell_type": "code",
   "execution_count": 37,
   "metadata": {},
   "outputs": [
    {
     "data": {
      "text/html": [
       "<div>\n",
       "<style scoped>\n",
       "    .dataframe tbody tr th:only-of-type {\n",
       "        vertical-align: middle;\n",
       "    }\n",
       "\n",
       "    .dataframe tbody tr th {\n",
       "        vertical-align: top;\n",
       "    }\n",
       "\n",
       "    .dataframe thead th {\n",
       "        text-align: right;\n",
       "    }\n",
       "</style>\n",
       "<table border=\"1\" class=\"dataframe\">\n",
       "  <thead>\n",
       "    <tr style=\"text-align: right;\">\n",
       "      <th></th>\n",
       "      <th>City</th>\n",
       "      <th>Cloudiness</th>\n",
       "      <th>Country</th>\n",
       "      <th>Date</th>\n",
       "      <th>Humidity</th>\n",
       "      <th>Lat</th>\n",
       "      <th>Long</th>\n",
       "      <th>Max Temp</th>\n",
       "      <th>Wind Speed</th>\n",
       "    </tr>\n",
       "  </thead>\n",
       "  <tbody>\n",
       "  </tbody>\n",
       "</table>\n",
       "</div>"
      ],
      "text/plain": [
       "Empty DataFrame\n",
       "Columns: [City, Cloudiness, Country, Date, Humidity, Lat, Long, Max Temp, Wind Speed]\n",
       "Index: []"
      ]
     },
     "execution_count": 37,
     "metadata": {},
     "output_type": "execute_result"
    }
   ],
   "source": [
    "#  Get the indices of cities that have humidity over 100%.\n",
    "humidity_df.head()"
   ]
  },
  {
   "cell_type": "code",
   "execution_count": 10,
   "metadata": {},
   "outputs": [],
   "source": [
    "# Make a new DataFrame equal to the city data to drop all humidity outliers by index.\n",
    "# Passing \"inplace=False\" will make a copy of the city_data DataFrame, which we call \"clean_city_data\".\n"
   ]
  },
  {
   "cell_type": "markdown",
   "metadata": {},
   "source": [
    "## Plotting the Data\n",
    "* Use proper labeling of the plots using plot titles (including date of analysis) and axes labels.\n",
    "* Save the plotted figures as .pngs."
   ]
  },
  {
   "cell_type": "markdown",
   "metadata": {},
   "source": [
    "## Latitude vs. Temperature Plot"
   ]
  },
  {
   "cell_type": "code",
   "execution_count": 11,
   "metadata": {
    "scrolled": true
   },
   "outputs": [
    {
     "data": {
      "image/png": "[encoded data removed]",
      "text/plain": [
       "<Figure size 432x288 with 1 Axes>"
      ]
     },
     "metadata": {
      "needs_background": "light"
     },
     "output_type": "display_data"
    }
   ],
   "source": [
    "x=weather_df['Lat']\n",
    "y=weather_df['Max Temp']\n",
    "\n",
    "plt.scatter(x,y, marker='o')\n",
    "plt.ylabel('Max Temperature (F)')\n",
    "plt.xlabel('Latitude')\n",
    "plt.title('Latitude v Max Temperature')\n",
    "plt.grid()\n",
    "\n",
    "plt.savefig(\"Latitude v Max Temperature.png\")\n",
    "plt.show()"
   ]
  },
  {
   "cell_type": "markdown",
   "metadata": {},
   "source": [
    "The Latitude v Max Temperature scatterplot shows that as the temperature approaches zero from both the negative and positive latitude, max temperature increases."
   ]
  },
  {
   "cell_type": "markdown",
   "metadata": {},
   "source": [
    "## Latitude vs. Humidity Plot"
   ]
  },
  {
   "cell_type": "code",
   "execution_count": 12,
   "metadata": {},
   "outputs": [
    {
     "data": {
      "image/png": "[encoded data removed]",
      "text/plain": [
       "<Figure size 432x288 with 1 Axes>"
      ]
     },
     "metadata": {
      "needs_background": "light"
     },
     "output_type": "display_data"
    }
   ],
   "source": [
    "x=weather_df['Lat']\n",
    "y=weather_df['Humidity']\n",
    "\n",
    "plt.scatter(x,y, marker='o')\n",
    "plt.ylabel('Max Temperature (F)')\n",
    "plt.xlabel('Humidity (%)')\n",
    "plt.title('Humidity v Max Temperature')\n",
    "plt.grid()\n",
    "\n",
    "plt.savefig(\"Latitude v Humidity.png\")\n",
    "plt.show()"
   ]
  },
  {
   "cell_type": "markdown",
   "metadata": {},
   "source": [
    "The Humidity v Max Temperature plot shows there is not much of a correlation between humidity and max temperature."
   ]
  },
  {
   "cell_type": "markdown",
   "metadata": {},
   "source": [
    "## Latitude vs. Cloudiness Plot"
   ]
  },
  {
   "cell_type": "code",
   "execution_count": 13,
   "metadata": {},
   "outputs": [
    {
     "data": {
      "image/png": "[encoded data removed]",
      "text/plain": [
       "<Figure size 432x288 with 1 Axes>"
      ]
     },
     "metadata": {
      "needs_background": "light"
     },
     "output_type": "display_data"
    }
   ],
   "source": [
    "x=weather_df['Lat']\n",
    "y=weather_df['Cloudiness']\n",
    "\n",
    "plt.scatter(x,y, marker='o')\n",
    "plt.ylabel('Cloudiness (%)')\n",
    "plt.xlabel('Latitude')\n",
    "plt.title('Latitude v Cloudiness')\n",
    "plt.grid()\n",
    "\n",
    "plt.savefig(\"Latitude v Cloudiness.png\")\n",
    "plt.show()"
   ]
  },
  {
   "cell_type": "markdown",
   "metadata": {},
   "source": [
    "The Latitude v Cloudiness scatterplot shows no correlation between latitude and cloudiness. There seems to be more latitude points specifically at the 100%, ~75%, 40%, and 0% cloudiness. "
   ]
  },
  {
   "cell_type": "markdown",
   "metadata": {},
   "source": [
    "## Latitude vs. Wind Speed Plot"
   ]
  },
  {
   "cell_type": "code",
   "execution_count": 14,
   "metadata": {},
   "outputs": [
    {
     "data": {
      "image/png": "[encoded data removed]",
      "text/plain": [
       "<Figure size 432x288 with 1 Axes>"
      ]
     },
     "metadata": {
      "needs_background": "light"
     },
     "output_type": "display_data"
    }
   ],
   "source": [
    "x=weather_df['Lat']\n",
    "y=weather_df['Wind Speed']\n",
    "\n",
    "plt.scatter(x,y, marker='o')\n",
    "plt.ylabel('Wind Speed (mph)')\n",
    "plt.xlabel('Latitude')\n",
    "plt.title('Latitude v Wind Speed')\n",
    "plt.grid()\n",
    "\n",
    "plt.savefig(\"Latitude v Wind Speed.png\")\n",
    "plt.show()"
   ]
  },
  {
   "cell_type": "markdown",
   "metadata": {},
   "source": [
    "The Latitude v Wind speed scatterplot shows no correlation between latitude and wind speed."
   ]
  },
  {
   "cell_type": "markdown",
   "metadata": {},
   "source": [
    "## Linear Regression"
   ]
  },
  {
   "cell_type": "code",
   "execution_count": 15,
   "metadata": {},
   "outputs": [
    {
     "data": {
      "text/html": [
       "<div>\n",
       "<style scoped>\n",
       "    .dataframe tbody tr th:only-of-type {\n",
       "        vertical-align: middle;\n",
       "    }\n",
       "\n",
       "    .dataframe tbody tr th {\n",
       "        vertical-align: top;\n",
       "    }\n",
       "\n",
       "    .dataframe thead th {\n",
       "        text-align: right;\n",
       "    }\n",
       "</style>\n",
       "<table border=\"1\" class=\"dataframe\">\n",
       "  <thead>\n",
       "    <tr style=\"text-align: right;\">\n",
       "      <th></th>\n",
       "      <th>City</th>\n",
       "      <th>Cloudiness</th>\n",
       "      <th>Date</th>\n",
       "      <th>Humidity</th>\n",
       "      <th>Lat</th>\n",
       "      <th>Long</th>\n",
       "      <th>Max Temp</th>\n",
       "      <th>Wind Speed</th>\n",
       "    </tr>\n",
       "  </thead>\n",
       "  <tbody>\n",
       "    <tr>\n",
       "      <th>0</th>\n",
       "      <td>Rikitea</td>\n",
       "      <td>97</td>\n",
       "      <td>1603908304</td>\n",
       "      <td>83</td>\n",
       "      <td>-23.12</td>\n",
       "      <td>-134.97</td>\n",
       "      <td>74.71</td>\n",
       "      <td>13.96</td>\n",
       "    </tr>\n",
       "    <tr>\n",
       "      <th>1</th>\n",
       "      <td>Mahébourg</td>\n",
       "      <td>67</td>\n",
       "      <td>1603908305</td>\n",
       "      <td>73</td>\n",
       "      <td>-20.41</td>\n",
       "      <td>57.70</td>\n",
       "      <td>73.00</td>\n",
       "      <td>5.01</td>\n",
       "    </tr>\n",
       "    <tr>\n",
       "      <th>5</th>\n",
       "      <td>Hobart</td>\n",
       "      <td>90</td>\n",
       "      <td>1603908305</td>\n",
       "      <td>87</td>\n",
       "      <td>-42.88</td>\n",
       "      <td>147.33</td>\n",
       "      <td>50.00</td>\n",
       "      <td>3.09</td>\n",
       "    </tr>\n",
       "    <tr>\n",
       "      <th>7</th>\n",
       "      <td>Mar del Plata</td>\n",
       "      <td>90</td>\n",
       "      <td>1603908306</td>\n",
       "      <td>55</td>\n",
       "      <td>-38.00</td>\n",
       "      <td>-57.56</td>\n",
       "      <td>64.00</td>\n",
       "      <td>11.41</td>\n",
       "    </tr>\n",
       "    <tr>\n",
       "      <th>9</th>\n",
       "      <td>Hermanus</td>\n",
       "      <td>89</td>\n",
       "      <td>1603908306</td>\n",
       "      <td>63</td>\n",
       "      <td>-34.42</td>\n",
       "      <td>19.23</td>\n",
       "      <td>64.00</td>\n",
       "      <td>13.94</td>\n",
       "    </tr>\n",
       "    <tr>\n",
       "      <th>...</th>\n",
       "      <td>...</td>\n",
       "      <td>...</td>\n",
       "      <td>...</td>\n",
       "      <td>...</td>\n",
       "      <td>...</td>\n",
       "      <td>...</td>\n",
       "      <td>...</td>\n",
       "      <td>...</td>\n",
       "    </tr>\n",
       "    <tr>\n",
       "      <th>522</th>\n",
       "      <td>San Jerónimo</td>\n",
       "      <td>31</td>\n",
       "      <td>1603908390</td>\n",
       "      <td>21</td>\n",
       "      <td>-11.95</td>\n",
       "      <td>-75.28</td>\n",
       "      <td>69.21</td>\n",
       "      <td>2.51</td>\n",
       "    </tr>\n",
       "    <tr>\n",
       "      <th>529</th>\n",
       "      <td>Ngunguru</td>\n",
       "      <td>96</td>\n",
       "      <td>1603908391</td>\n",
       "      <td>95</td>\n",
       "      <td>-35.62</td>\n",
       "      <td>174.50</td>\n",
       "      <td>62.01</td>\n",
       "      <td>8.21</td>\n",
       "    </tr>\n",
       "    <tr>\n",
       "      <th>534</th>\n",
       "      <td>Moreira Sales</td>\n",
       "      <td>0</td>\n",
       "      <td>1603908392</td>\n",
       "      <td>24</td>\n",
       "      <td>-24.06</td>\n",
       "      <td>-53.01</td>\n",
       "      <td>89.22</td>\n",
       "      <td>4.47</td>\n",
       "    </tr>\n",
       "    <tr>\n",
       "      <th>535</th>\n",
       "      <td>Olavarría</td>\n",
       "      <td>100</td>\n",
       "      <td>1603908392</td>\n",
       "      <td>70</td>\n",
       "      <td>-36.89</td>\n",
       "      <td>-60.32</td>\n",
       "      <td>57.99</td>\n",
       "      <td>4.00</td>\n",
       "    </tr>\n",
       "    <tr>\n",
       "      <th>543</th>\n",
       "      <td>Jambi City</td>\n",
       "      <td>87</td>\n",
       "      <td>1603908393</td>\n",
       "      <td>97</td>\n",
       "      <td>-1.60</td>\n",
       "      <td>103.62</td>\n",
       "      <td>74.43</td>\n",
       "      <td>3.76</td>\n",
       "    </tr>\n",
       "  </tbody>\n",
       "</table>\n",
       "<p>169 rows × 8 columns</p>\n",
       "</div>"
      ],
      "text/plain": [
       "              City  Cloudiness        Date  Humidity    Lat    Long  Max Temp  \\\n",
       "0          Rikitea          97  1603908304        83 -23.12 -134.97     74.71   \n",
       "1        Mahébourg          67  1603908305        73 -20.41   57.70     73.00   \n",
       "5           Hobart          90  1603908305        87 -42.88  147.33     50.00   \n",
       "7    Mar del Plata          90  1603908306        55 -38.00  -57.56     64.00   \n",
       "9         Hermanus          89  1603908306        63 -34.42   19.23     64.00   \n",
       "..             ...         ...         ...       ...    ...     ...       ...   \n",
       "522   San Jerónimo          31  1603908390        21 -11.95  -75.28     69.21   \n",
       "529       Ngunguru          96  1603908391        95 -35.62  174.50     62.01   \n",
       "534  Moreira Sales           0  1603908392        24 -24.06  -53.01     89.22   \n",
       "535      Olavarría         100  1603908392        70 -36.89  -60.32     57.99   \n",
       "543     Jambi City          87  1603908393        97  -1.60  103.62     74.43   \n",
       "\n",
       "     Wind Speed  \n",
       "0         13.96  \n",
       "1          5.01  \n",
       "5          3.09  \n",
       "7         11.41  \n",
       "9         13.94  \n",
       "..          ...  \n",
       "522        2.51  \n",
       "529        8.21  \n",
       "534        4.47  \n",
       "535        4.00  \n",
       "543        3.76  \n",
       "\n",
       "[169 rows x 8 columns]"
      ]
     },
     "execution_count": 15,
     "metadata": {},
     "output_type": "execute_result"
    }
   ],
   "source": [
    "#Northern and Southern hemispheres\n",
    "weather_df[\"Lat\"] = pd.to_numeric(weather_df[\"Lat\"])\n",
    "\n",
    "northern_df = weather_df.loc[weather_df[\"Lat\"] >= 0]\n",
    "southern_df = weather_df.loc[weather_df[\"Lat\"] < 0]\n",
    "\n",
    "southern_df"
   ]
  },
  {
   "cell_type": "markdown",
   "metadata": {},
   "source": [
    "####  Northern Hemisphere - Max Temp vs. Latitude Linear Regression"
   ]
  },
  {
   "cell_type": "code",
   "execution_count": 16,
   "metadata": {},
   "outputs": [
    {
     "name": "stdout",
     "output_type": "stream",
     "text": [
      "The r-value is: -0.8705084113689018\n"
     ]
    },
    {
     "data": {
      "image/png": "[encoded data removed]",
      "text/plain": [
       "<Figure size 432x288 with 1 Axes>"
      ]
     },
     "metadata": {
      "needs_background": "light"
     },
     "output_type": "display_data"
    }
   ],
   "source": [
    "northern_lat = northern_df[\"Lat\"]\n",
    "northern_temp = northern_df[\"Max Temp\"]\n",
    "\n",
    "n_slope, n_int, n_r, n_p, n_std_err = stats.linregress(northern_lat, northern_temp)\n",
    "n_fit = n_slope * northern_lat + n_int\n",
    "line_eq = \"y = \" + str(round(n_slope,2)) + \"x + \" + str(round(n_int,2))\n",
    "\n",
    "plt.scatter(northern_lat,northern_temp)\n",
    "plt.plot(northern_lat,n_fit,\"r-\")\n",
    "plt.annotate(line_eq,(10,-10),fontsize=15,color=\"red\")\n",
    "plt.ylabel('Max Temp (F)')\n",
    "plt.xlabel('Latitude')\n",
    "plt.title('Latitude v Max Temp (Northern Hemisphere)')\n",
    "\n",
    "print(f\"The r-value is: {n_r}\")\n",
    "\n",
    "plt.savefig(\"Latitude vs Max Temp (Northern Hemisphere).png\")\n",
    "plt.show()"
   ]
  },
  {
   "cell_type": "markdown",
   "metadata": {},
   "source": [
    "The northern hemisphere Latitude v Max Temp scatterplot and line regression show a strong negative correlation: as latitude goes farther from the equator, max temperature decreases."
   ]
  },
  {
   "cell_type": "markdown",
   "metadata": {},
   "source": [
    "####  Southern Hemisphere - Max Temp vs. Latitude Linear Regression"
   ]
  },
  {
   "cell_type": "code",
   "execution_count": 17,
   "metadata": {},
   "outputs": [
    {
     "name": "stdout",
     "output_type": "stream",
     "text": [
      "The r-value is: 0.6971898546790136\n"
     ]
    },
    {
     "data": {
      "image/png": "[encoded data removed]",
      "text/plain": [
       "<Figure size 432x288 with 1 Axes>"
      ]
     },
     "metadata": {
      "needs_background": "light"
     },
     "output_type": "display_data"
    }
   ],
   "source": [
    "southern_lat = southern_df[\"Lat\"]\n",
    "southern_temp = southern_df[\"Max Temp\"]\n",
    "\n",
    "s_slope, s_int, s_r, s_p, s_std_err = stats.linregress(southern_lat, southern_temp)\n",
    "s_fit = s_slope * southern_lat + s_int\n",
    "line_eq = \"y = \" + str(round(n_slope,2)) + \"x + \" + str(round(n_int,2))\n",
    "\n",
    "plt.scatter(southern_lat, southern_temp)\n",
    "plt.plot(southern_lat,s_fit,\"r-\")\n",
    "plt.annotate(line_eq,(-50,30),fontsize=15,color=\"red\")\n",
    "plt.ylabel('Max Temp (F)')\n",
    "plt.xlabel('Latitude')\n",
    "plt.title('Latitude v Max Temp (Southern Hemisphere)')\n",
    "\n",
    "print(f\"The r-value is: {s_r}\")\n",
    "\n",
    "plt.savefig(\"Latitude vs Max Temp (Southern Hemisphere).png\")\n",
    "plt.show()"
   ]
  },
  {
   "cell_type": "markdown",
   "metadata": {},
   "source": [
    "The southern hemisphere Latitude v Max Temp scatterplot and line regression show a somewhat strong positive correlation: as latitude gets closer to the equator, max temperature increases."
   ]
  },
  {
   "cell_type": "markdown",
   "metadata": {},
   "source": [
    "####  Northern Hemisphere - Humidity (%) vs. Latitude Linear Regression"
   ]
  },
  {
   "cell_type": "code",
   "execution_count": 27,
   "metadata": {},
   "outputs": [
    {
     "name": "stdout",
     "output_type": "stream",
     "text": [
      "The r-value is: 0.37294600675931816\n"
     ]
    },
    {
     "data": {
      "image/png": "[encoded data removed]",
      "text/plain": [
       "<Figure size 432x288 with 1 Axes>"
      ]
     },
     "metadata": {
      "needs_background": "light"
     },
     "output_type": "display_data"
    }
   ],
   "source": [
    "northern_lat = northern_df[\"Lat\"]\n",
    "northern_humidity = northern_df[\"Humidity\"]\n",
    "\n",
    "nh_slope, nh_int, nh_r, nh_p, nh_std_err = stats.linregress(northern_lat, northern_humidity)\n",
    "nh_fit = nh_slope * northern_lat + nh_int\n",
    "line_eq = \"y = \" + str(round(nh_slope,2)) + \"x + \" + str(round(nh_int,2))\n",
    "\n",
    "plt.scatter(northern_lat,northern_humidity)\n",
    "plt.plot(northern_lat,nh_fit,\"r-\")\n",
    "plt.annotate(line_eq,(40,30),fontsize=15,color=\"red\")\n",
    "plt.ylabel('Humidity (%)')\n",
    "plt.xlabel('Latitude')\n",
    "plt.title('Latitude v Humidity (Northern Hemisphere)')\n",
    "\n",
    "print(f\"The r-value is: {nh_r}\")\n",
    "\n",
    "plt.savefig(\"Latitude vs Max Temp (Northern Hemisphere).png\")\n",
    "plt.show()"
   ]
  },
  {
   "cell_type": "markdown",
   "metadata": {},
   "source": [
    "The northern hemisphere latitude v humidity scatterplot and line regression show a weak positive correlation between latitude and humidity: as latitude goes further from the equator, humidity tends to increase."
   ]
  },
  {
   "cell_type": "markdown",
   "metadata": {},
   "source": [
    "####  Southern Hemisphere - Humidity (%) vs. Latitude Linear Regression"
   ]
  },
  {
   "cell_type": "code",
   "execution_count": 19,
   "metadata": {},
   "outputs": [
    {
     "name": "stdout",
     "output_type": "stream",
     "text": [
      "The r-value is: 0.020269447940002665\n"
     ]
    },
    {
     "data": {
      "image/png": "[encoded data removed]",
      "text/plain": [
       "<Figure size 432x288 with 1 Axes>"
      ]
     },
     "metadata": {
      "needs_background": "light"
     },
     "output_type": "display_data"
    }
   ],
   "source": [
    "southern_lat = southern_df[\"Lat\"]\n",
    "southern_humidity = southern_df[\"Humidity\"]\n",
    "\n",
    "sh_slope, sh_int, sh_r, sh_p, sh_std_err = stats.linregress(southern_lat, southern_humidity)\n",
    "sh_fit = sh_slope * southern_lat + sh_int\n",
    "line_eq = \"y = \" + str(round(sh_slope,2)) + \"x + \" + str(round(sh_int,2))\n",
    "\n",
    "plt.scatter(southern_lat,southern_humidity)\n",
    "plt.plot(southern_lat,sh_fit,\"r-\")\n",
    "plt.annotate(line_eq,(-50,10),fontsize=15,color=\"red\")\n",
    "plt.ylabel('Humidity (%)')\n",
    "plt.xlabel('Latitude')\n",
    "plt.title('Latitude v Humidity (Southern Hemisphere)')\n",
    "\n",
    "print(f\"The r-value is: {sh_r}\")\n",
    "\n",
    "plt.savefig(\"Latitude v Max Temp (Southern Hemisphere).png\")\n",
    "plt.show()"
   ]
  },
  {
   "cell_type": "markdown",
   "metadata": {},
   "source": [
    "The southern hemisphere latitude v humidity scatterplot and line regression show almost no correlation."
   ]
  },
  {
   "cell_type": "markdown",
   "metadata": {},
   "source": [
    "####  Northern Hemisphere - Cloudiness (%) vs. Latitude Linear Regression"
   ]
  },
  {
   "cell_type": "code",
   "execution_count": 20,
   "metadata": {},
   "outputs": [
    {
     "name": "stdout",
     "output_type": "stream",
     "text": [
      "The r-value is: 0.23195019605064984\n"
     ]
    },
    {
     "data": {
      "image/png": "[encoded data removed]",
      "text/plain": [
       "<Figure size 432x288 with 1 Axes>"
      ]
     },
     "metadata": {
      "needs_background": "light"
     },
     "output_type": "display_data"
    }
   ],
   "source": [
    "northern_lat = northern_df[\"Lat\"]\n",
    "northern_cloud = northern_df[\"Cloudiness\"]\n",
    "\n",
    "nc_slope, nc_int, nc_r, nc_p, nc_std_err = stats.linregress(northern_lat, northern_cloud)\n",
    "nc_fit = nh_slope * northern_lat + nc_int\n",
    "line_eq = \"y = \" + str(round(nc_slope,2)) + \"x + \" + str(round(nc_int,2))\n",
    "\n",
    "plt.scatter(northern_lat,northern_cloud)\n",
    "plt.plot(northern_lat,nh_fit,\"r-\")\n",
    "plt.annotate(line_eq,(-10,-10),fontsize=15,color=\"red\")\n",
    "plt.ylabel('Cloudiness (%)')\n",
    "plt.xlabel('Latitude')\n",
    "plt.title('Latitude v Cloudiness (Northern Hemisphere)')\n",
    "\n",
    "print(f\"The r-value is: {nc_r}\")\n",
    "\n",
    "plt.savefig(\"Latitude v Cloudiness (Northern Hemisphere).png\")\n",
    "plt.show()"
   ]
  },
  {
   "cell_type": "markdown",
   "metadata": {},
   "source": [
    "The northern hemisphere latitude v cloudiness scatterplot and line regression show a very weak positive correlation: as the latitude goes further from the equator, the cloudiness% tends to increase. "
   ]
  },
  {
   "cell_type": "markdown",
   "metadata": {},
   "source": [
    "####  Southern Hemisphere - Cloudiness (%) vs. Latitude Linear Regression"
   ]
  },
  {
   "cell_type": "code",
   "execution_count": 21,
   "metadata": {},
   "outputs": [
    {
     "name": "stdout",
     "output_type": "stream",
     "text": [
      "The r-value is: 0.07808613356142859\n"
     ]
    },
    {
     "data": {
      "image/png": "[encoded data removed]",
      "text/plain": [
       "<Figure size 432x288 with 1 Axes>"
      ]
     },
     "metadata": {
      "needs_background": "light"
     },
     "output_type": "display_data"
    }
   ],
   "source": [
    "southern_lat = southern_df[\"Lat\"]\n",
    "southern_cloud = southern_df[\"Cloudiness\"]\n",
    "\n",
    "sc_slope, sc_int, sc_r, sc_p, sc_std_err = stats.linregress(southern_lat, southern_cloud)\n",
    "sc_fit = sc_slope * southern_lat + sc_int\n",
    "line_eq = \"y = \" + str(round(sc_slope,2)) + \"x + \" + str(round(sc_int,2))\n",
    "\n",
    "plt.scatter(southern_lat,southern_cloud)\n",
    "plt.plot(southern_lat,sc_fit,\"r-\")\n",
    "plt.annotate(line_eq,(-50,10),fontsize=15,color=\"red\")\n",
    "plt.ylabel('Cloudiness (%)')\n",
    "plt.xlabel('Latitude')\n",
    "plt.title('Latitude v Cloudiness (Southern Hemisphere)')\n",
    "\n",
    "print(f\"The r-value is: {sc_r}\")\n",
    "\n",
    "plt.savefig(\"Latitude v Cloudiness (Southern Hemisphere).png\")\n",
    "plt.show()"
   ]
  },
  {
   "cell_type": "markdown",
   "metadata": {},
   "source": [
    "The southern hemisphere latitude v cloudiness scatterplot and line regression show a weak positive correlation: as latitude gets closer to the equator, cloudiness tends to increase."
   ]
  },
  {
   "cell_type": "markdown",
   "metadata": {},
   "source": [
    "####  Northern Hemisphere - Wind Speed (mph) vs. Latitude Linear Regression"
   ]
  },
  {
   "cell_type": "code",
   "execution_count": 22,
   "metadata": {},
   "outputs": [
    {
     "name": "stdout",
     "output_type": "stream",
     "text": [
      "The r-value is: 0.1724716799200322\n"
     ]
    },
    {
     "data": {
      "image/png": "[encoded data removed]",
      "text/plain": [
       "<Figure size 432x288 with 1 Axes>"
      ]
     },
     "metadata": {
      "needs_background": "light"
     },
     "output_type": "display_data"
    }
   ],
   "source": [
    "northern_lat = northern_df[\"Lat\"]\n",
    "northern_wind = northern_df[\"Wind Speed\"]\n",
    "\n",
    "nw_slope, nw_int, nw_r, nw_p, nw_std_err = stats.linregress(northern_lat, northern_wind)\n",
    "nw_fit = nw_slope * northern_lat + nw_int\n",
    "line_eq = \"y = \" + str(round(nw_slope,2)) + \"x + \" + str(round(nw_int,2))\n",
    "\n",
    "plt.scatter(northern_lat,northern_wind)\n",
    "plt.plot(northern_lat,nw_fit,\"r-\")\n",
    "plt.annotate(line_eq,(20,12),fontsize=15,color=\"red\")\n",
    "plt.ylabel('Wind Speed (MPH)')\n",
    "plt.xlabel('Latitude')\n",
    "plt.title('Latitude v Wind Speed (Northern Hemisphere)')\n",
    "\n",
    "print(f\"The r-value is: {nw_r}\")\n",
    "\n",
    "plt.savefig(\"Latitude v Cloudiness (Northern Hemisphere).png\")\n",
    "plt.show()"
   ]
  },
  {
   "cell_type": "markdown",
   "metadata": {},
   "source": [
    "The nothern hemisphere latitude v wind speed scatterplot and line regression shows almost no correlation between the two values."
   ]
  },
  {
   "cell_type": "markdown",
   "metadata": {},
   "source": [
    "####  Southern Hemisphere - Wind Speed (mph) vs. Latitude Linear Regression"
   ]
  },
  {
   "cell_type": "code",
   "execution_count": 29,
   "metadata": {},
   "outputs": [
    {
     "name": "stdout",
     "output_type": "stream",
     "text": [
      "The r-value is: -0.21041825792482094\n"
     ]
    },
    {
     "data": {
      "image/png": "[encoded data removed]",
      "text/plain": [
       "<Figure size 432x288 with 1 Axes>"
      ]
     },
     "metadata": {
      "needs_background": "light"
     },
     "output_type": "display_data"
    }
   ],
   "source": [
    "southern_lat = southern_df[\"Lat\"]\n",
    "southern_wind = southern_df[\"Wind Speed\"]\n",
    "\n",
    "sw_slope, sw_int, sw_r, sc_p, sw_std_err = stats.linregress(southern_lat, southern_wind)\n",
    "sw_fit = sw_slope * southern_lat + sw_int\n",
    "line_eq = \"y = \" + str(round(sw_slope,2)) + \"x + \" + str(round(sw_int,2))\n",
    "\n",
    "plt.scatter(southern_lat,southern_wind)\n",
    "plt.plot(southern_lat,sw_fit,\"r-\")\n",
    "plt.annotate(line_eq,(-50,30),fontsize=15,color=\"red\")\n",
    "plt.ylabel('Wind Speed (MPH)')\n",
    "plt.xlabel('Latitude')\n",
    "plt.title('Latitude v Wind Speed (Southern Hemisphere)')\n",
    "\n",
    "print(f\"The r-value is: {sw_r}\")\n",
    "\n",
    "plt.savefig(\"Latitude v Wind Speed (Southern Hemisphere).png\")\n",
    "plt.show()"
   ]
  },
  {
   "cell_type": "markdown",
   "metadata": {},
   "source": [
    "The southern hemisphere latitude v wind speed scatterplot and line regression show almost no correlation."
   ]
  },
  {
   "cell_type": "code",
   "execution_count": null,
   "metadata": {},
   "outputs": [],
   "source": []
  }
 ],
 "metadata": {
  "anaconda-cloud": {},
  "kernel_info": {
   "name": "python3"
  },
  "kernelspec": {
   "display_name": "Python 3",
   "language": "python",
   "name": "python3"
  },
  "language_info": {
   "codemirror_mode": {
    "name": "ipython",
    "version": 3
   },
   "file_extension": ".py",
   "mimetype": "text/x-python",
   "name": "python",
   "nbconvert_exporter": "python",
   "pygments_lexer": "ipython3",
   "version": "3.6.10"
  },
  "latex_envs": {
   "LaTeX_envs_menu_present": true,
   "autoclose": false,
   "autocomplete": true,
   "bibliofile": "biblio.bib",
   "cite_by": "apalike",
   "current_citInitial": 1,
   "eqLabelWithNumbers": true,
   "eqNumInitial": 1,
   "hotkeys": {
    "equation": "Ctrl-E",
    "itemize": "Ctrl-I"
   },
   "labels_anchors": false,
   "latex_user_defs": false,
   "report_style_numbering": false,
   "user_envs_cfg": false
  },
  "nteract": {
   "version": "0.12.3"
  }
 },
 "nbformat": 4,
 "nbformat_minor": 4
}
