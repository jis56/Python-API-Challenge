{
 "cells": [
  {
   "cell_type": "markdown",
   "metadata": {},
   "source": [
    "# WeatherPy\n",
    "----"
   ]
  },
  {
   "cell_type": "code",
   "execution_count": 1,
   "metadata": {
    "scrolled": true
   },
   "outputs": [],
   "source": [
    "# Dependencies and Setup\n",
    "import matplotlib.pyplot as plt\n",
    "import pandas as pd\n",
    "import numpy as np\n",
    "import requests\n",
    "import time\n",
    "from scipy.stats import linregress\n",
    "from scipy import stats\n",
    "\n",
    "# Import API key\n",
    "from config import weather_api_key\n",
    "\n",
    "# Incorporated citipy to determine city based on latitude and longitude\n",
    "from citipy import citipy\n",
    "\n",
    "# Output File (CSV)\n",
    "output_data_file = \"../output_data/cities.csv\"\n",
    "\n",
    "# Range of latitudes and longitudes\n",
    "lat_range = (-90, 90)\n",
    "lng_range = (-180, 180)"
   ]
  },
  {
   "cell_type": "markdown",
   "metadata": {},
   "source": [
    "## Generate Cities List"
   ]
  },
  {
   "cell_type": "code",
   "execution_count": 2,
   "metadata": {},
   "outputs": [
    {
     "data": {
      "text/plain": [
       "633"
      ]
     },
     "execution_count": 2,
     "metadata": {},
     "output_type": "execute_result"
    }
   ],
   "source": [
    "# List for holding lat_lngs and cities\n",
    "lat_lngs = []\n",
    "cities = []\n",
    "\n",
    "# Create a set of random lat and lng combinations\n",
    "lats = np.random.uniform(lat_range[0], lat_range[1], size=1500)\n",
    "lngs = np.random.uniform(lng_range[0], lng_range[1], size=1500)\n",
    "lat_lngs = zip(lats, lngs)\n",
    "\n",
    "# Identify nearest city for each lat, lng combination\n",
    "for lat_lng in lat_lngs:\n",
    "    city = citipy.nearest_city(lat_lng[0], lat_lng[1]).city_name\n",
    "    \n",
    "    # If the city is unique, then add it to a our cities list\n",
    "    if city not in cities:\n",
    "        cities.append(city)\n",
    "\n",
    "# Print the city count to confirm sufficient count\n",
    "len(cities)"
   ]
  },
  {
   "cell_type": "markdown",
   "metadata": {},
   "source": [
    "### Perform API Calls\n",
    "* Perform a weather check on each city using a series of successive API calls.\n",
    "* Include a print log of each city as it'sbeing processed (with the city number and city name).\n"
   ]
  },
  {
   "cell_type": "code",
   "execution_count": 3,
   "metadata": {},
   "outputs": [
    {
     "data": {
      "text/plain": [
       "{'coord': {'lon': 139.69, 'lat': 35.69},\n",
       " 'weather': [{'id': 803,\n",
       "   'main': 'Clouds',\n",
       "   'description': 'broken clouds',\n",
       "   'icon': '04n'}],\n",
       " 'base': 'stations',\n",
       " 'main': {'temp': 59.5,\n",
       "  'feels_like': 47.23,\n",
       "  'temp_min': 57.99,\n",
       "  'temp_max': 60.8,\n",
       "  'pressure': 1017,\n",
       "  'humidity': 51},\n",
       " 'visibility': 10000,\n",
       " 'wind': {'speed': 18.34, 'deg': 350},\n",
       " 'clouds': {'all': 75},\n",
       " 'dt': 1603993360,\n",
       " 'sys': {'type': 1,\n",
       "  'id': 8074,\n",
       "  'country': 'JP',\n",
       "  'sunrise': 1604005272,\n",
       "  'sunset': 1604044106},\n",
       " 'timezone': 32400,\n",
       " 'id': 1850144,\n",
       " 'name': 'Tokyo',\n",
       " 'cod': 200}"
      ]
     },
     "execution_count": 3,
     "metadata": {},
     "output_type": "execute_result"
    }
   ],
   "source": [
    "url = \"http://api.openweathermap.org/data/2.5/weather?\"\n",
    "units = \"imperial\"\n",
    "query_url = f\"{url}appid={weather_api_key}&units={units}&q=\"\n",
    "response = requests.get(query_url +\"tokyo\").json()\n",
    "response"
   ]
  },
  {
   "cell_type": "code",
   "execution_count": 33,
   "metadata": {},
   "outputs": [
    {
     "name": "stdout",
     "output_type": "stream",
     "text": [
      "------------------------\n",
      "Beginning Data Retrieval\n",
      "------------------------\n",
      "Processing Record 1 of Set 1 | dunedin\n",
      "Processing Record 2 of Set 1 | butaritari\n",
      "Processing Record 3 of Set 1 | bluff\n",
      "Processing Record 4 of Set 1 | castro\n",
      "Processing Record 5 of Set 1 | ndele\n",
      "Processing Record 6 of Set 1 | hilo\n",
      "Processing Record 7 of Set 1 | tuktoyaktuk\n",
      "Processing Record 8 of Set 1 | nioki\n",
      "Processing Record 9 of Set 1 | khatanga\n",
      "Processing Record 10 of Set 1 | jinchang\n",
      "Processing Record 11 of Set 1 | komsomolskiy\n",
      "Processing Record 12 of Set 1 | kodiak\n",
      "Processing Record 13 of Set 1 | lata\n",
      "Processing Record 14 of Set 1 | la trinidad\n",
      "Processing Record 15 of Set 1 | bouna\n",
      "Processing Record 16 of Set 1 | okha\n",
      "Processing Record 17 of Set 1 | ushuaia\n",
      "Processing Record 18 of Set 1 | comodoro rivadavia\n",
      "Processing Record 19 of Set 1 | cape town\n",
      "Processing Record 20 of Set 1 | punta arenas\n",
      "Processing Record 21 of Set 1 | angoche\n",
      "Processing Record 22 of Set 1 | kruisfontein\n",
      "Processing Record 23 of Set 1 | thompson\n",
      "Processing Record 24 of Set 1 | kununurra\n",
      "Processing Record 25 of Set 1 | saint-augustin\n",
      "Processing Record 26 of Set 1 | chokurdakh\n",
      "Processing Record 27 of Set 1 | caravelas\n",
      "Processing Record 28 of Set 1 | lebu\n",
      "Processing Record 29 of Set 1 | luena\n",
      "City not found. Skipping...\n",
      "Processing Record 30 of Set 1 | pevek\n",
      "Processing Record 31 of Set 1 | port elizabeth\n",
      "Processing Record 32 of Set 1 | albany\n",
      "Processing Record 33 of Set 1 | kapaa\n",
      "Processing Record 34 of Set 1 | lompoc\n",
      "Processing Record 35 of Set 1 | vestmanna\n",
      "Processing Record 36 of Set 1 | palana\n",
      "Processing Record 37 of Set 1 | rikitea\n",
      "Processing Record 38 of Set 1 | santo domingo\n",
      "Processing Record 39 of Set 1 | saldanha\n",
      "Processing Record 40 of Set 1 | amuntai\n",
      "Processing Record 41 of Set 1 | mataura\n",
      "Processing Record 42 of Set 1 | vao\n",
      "City not found. Skipping...\n",
      "Processing Record 43 of Set 1 | alyangula\n",
      "Processing Record 44 of Set 1 | qaanaaq\n",
      "Processing Record 45 of Set 1 | longyearbyen\n",
      "Processing Record 46 of Set 1 | aranos\n",
      "Processing Record 47 of Set 1 | hobart\n",
      "Processing Record 48 of Set 1 | scarborough\n",
      "Processing Record 49 of Set 1 | praia\n",
      "Processing Record 50 of Set 1 | kaitangata\n",
      "Processing Record 1 of Set 2 | atuona\n",
      "Processing Record 2 of Set 2 | vardo\n",
      "Processing Record 3 of Set 2 | maningrida\n",
      "Processing Record 4 of Set 2 | te anau\n",
      "Processing Record 5 of Set 2 | busselton\n",
      "Processing Record 6 of Set 2 | navoi\n",
      "Processing Record 7 of Set 2 | muros\n",
      "Processing Record 8 of Set 2 | jamestown\n",
      "Processing Record 9 of Set 2 | brewster\n",
      "Processing Record 10 of Set 2 | vaini\n",
      "Processing Record 11 of Set 2 | guerrero negro\n",
      "Processing Record 12 of Set 2 | sorkjosen\n",
      "Processing Record 13 of Set 2 | chala\n",
      "Processing Record 14 of Set 2 | anqing\n",
      "Processing Record 15 of Set 2 | avera\n",
      "Processing Record 16 of Set 2 | horta\n",
      "Processing Record 17 of Set 2 | ubinskoye\n",
      "Processing Record 18 of Set 2 | ilulissat\n",
      "Processing Record 19 of Set 2 | cidreira\n",
      "Processing Record 20 of Set 2 | yellowknife\n",
      "Processing Record 21 of Set 2 | gao\n",
      "Processing Record 22 of Set 2 | husavik\n",
      "Processing Record 23 of Set 2 | santa barbara\n",
      "Processing Record 24 of Set 2 | avarua\n",
      "Processing Record 25 of Set 2 | biltine\n",
      "City not found. Skipping...\n",
      "Processing Record 26 of Set 2 | sitka\n",
      "Processing Record 27 of Set 2 | torbay\n",
      "Processing Record 28 of Set 2 | ambanja\n",
      "Processing Record 29 of Set 2 | baruun-urt\n",
      "Processing Record 30 of Set 2 | kashi\n",
      "Processing Record 31 of Set 2 | tazovskiy\n",
      "Processing Record 32 of Set 2 | ewa beach\n",
      "City not found. Skipping...\n",
      "Processing Record 33 of Set 2 | tual\n",
      "Processing Record 34 of Set 2 | whitehorse\n",
      "Processing Record 35 of Set 2 | mount gambier\n",
      "Processing Record 36 of Set 2 | sao joao da barra\n",
      "Processing Record 37 of Set 2 | kavieng\n",
      "Processing Record 38 of Set 2 | maine-soroa\n",
      "Processing Record 39 of Set 2 | dikson\n",
      "City not found. Skipping...\n",
      "Processing Record 40 of Set 2 | berlevag\n",
      "City not found. Skipping...\n",
      "Processing Record 41 of Set 2 | sayyan\n",
      "Processing Record 42 of Set 2 | omboue\n",
      "City not found. Skipping...\n",
      "Processing Record 43 of Set 2 | tura\n",
      "Processing Record 44 of Set 2 | verkhnevilyuysk\n",
      "Processing Record 45 of Set 2 | parksville\n",
      "Processing Record 46 of Set 2 | corinto\n",
      "Processing Record 47 of Set 2 | bredasdorp\n",
      "Processing Record 48 of Set 2 | souillac\n",
      "Processing Record 49 of Set 2 | sorland\n",
      "Processing Record 50 of Set 2 | atambua\n",
      "Processing Record 1 of Set 3 | severo-kurilsk\n",
      "Processing Record 2 of Set 3 | hermanus\n",
      "City not found. Skipping...\n",
      "Processing Record 3 of Set 3 | snezhnogorsk\n",
      "City not found. Skipping...\n",
      "Processing Record 4 of Set 3 | saint george\n",
      "Processing Record 5 of Set 3 | safaga\n",
      "Processing Record 6 of Set 3 | ambulu\n",
      "Processing Record 7 of Set 3 | pangkalanbuun\n",
      "Processing Record 8 of Set 3 | owando\n",
      "Processing Record 9 of Set 3 | stupino\n",
      "City not found. Skipping...\n",
      "Processing Record 10 of Set 3 | saint-georges\n",
      "Processing Record 11 of Set 3 | provideniya\n",
      "Processing Record 12 of Set 3 | synya\n",
      "Processing Record 13 of Set 3 | seminole\n",
      "Processing Record 14 of Set 3 | tilichiki\n",
      "Processing Record 15 of Set 3 | don benito\n",
      "Processing Record 16 of Set 3 | hithadhoo\n",
      "City not found. Skipping...\n",
      "Processing Record 17 of Set 3 | ostrovnoy\n",
      "Processing Record 18 of Set 3 | conde\n",
      "Processing Record 19 of Set 3 | gambo\n",
      "City not found. Skipping...\n",
      "Processing Record 20 of Set 3 | ngunguru\n",
      "Processing Record 21 of Set 3 | barrow\n",
      "Processing Record 22 of Set 3 | muisne\n",
      "Processing Record 23 of Set 3 | chuy\n",
      "Processing Record 24 of Set 3 | mahajanga\n",
      "City not found. Skipping...\n",
      "Processing Record 25 of Set 3 | verkhnyaya sinyachikha\n",
      "Processing Record 26 of Set 3 | bengkulu\n",
      "Processing Record 27 of Set 3 | tumpat\n",
      "Processing Record 28 of Set 3 | ballina\n",
      "Processing Record 29 of Set 3 | port hardy\n",
      "Processing Record 30 of Set 3 | chumikan\n",
      "Processing Record 31 of Set 3 | mananjary\n",
      "Processing Record 32 of Set 3 | asyut\n",
      "Processing Record 33 of Set 3 | half moon bay\n",
      "Processing Record 34 of Set 3 | dingle\n",
      "Processing Record 35 of Set 3 | tougan\n",
      "Processing Record 36 of Set 3 | puerto ayora\n",
      "Processing Record 37 of Set 3 | ponta do sol\n",
      "Processing Record 38 of Set 3 | nikolskoye\n",
      "City not found. Skipping...\n",
      "City not found. Skipping...\n",
      "Processing Record 39 of Set 3 | hovd\n",
      "Processing Record 40 of Set 3 | santa maria del oro\n",
      "Processing Record 41 of Set 3 | port lincoln\n",
      "Processing Record 42 of Set 3 | mitu\n",
      "Processing Record 43 of Set 3 | miyako\n",
      "Processing Record 44 of Set 3 | augusto correa\n",
      "Processing Record 45 of Set 3 | tabou\n",
      "Processing Record 46 of Set 3 | bastia\n",
      "Processing Record 47 of Set 3 | abu kamal\n",
      "Processing Record 48 of Set 3 | tevaitoa\n",
      "Processing Record 49 of Set 3 | bacolod\n",
      "Processing Record 50 of Set 3 | grindavik\n",
      "Processing Record 1 of Set 4 | maloy\n",
      "Processing Record 2 of Set 4 | sakakah\n",
      "Processing Record 3 of Set 4 | bambous virieux\n",
      "Processing Record 4 of Set 4 | port alfred\n",
      "Processing Record 5 of Set 4 | cockburn town\n",
      "Processing Record 6 of Set 4 | cherskiy\n",
      "Processing Record 7 of Set 4 | hasaki\n",
      "Processing Record 8 of Set 4 | warkworth\n",
      "Processing Record 9 of Set 4 | turukhansk\n",
      "Processing Record 10 of Set 4 | abu samrah\n",
      "Processing Record 11 of Set 4 | lawton\n",
      "Processing Record 12 of Set 4 | ariquemes\n",
      "Processing Record 13 of Set 4 | fortuna\n",
      "Processing Record 14 of Set 4 | nantucket\n",
      "City not found. Skipping...\n",
      "Processing Record 15 of Set 4 | menongue\n",
      "Processing Record 16 of Set 4 | maltahohe\n",
      "Processing Record 17 of Set 4 | deputatskiy\n",
      "Processing Record 18 of Set 4 | chandler\n",
      "Processing Record 19 of Set 4 | yulara\n",
      "Processing Record 20 of Set 4 | nadym\n",
      "Processing Record 21 of Set 4 | lavrentiya\n",
      "Processing Record 22 of Set 4 | vendychany\n",
      "Processing Record 23 of Set 4 | union de tula\n",
      "Processing Record 24 of Set 4 | presidencia roque saenz pena\n",
      "Processing Record 25 of Set 4 | upernavik\n",
      "Processing Record 26 of Set 4 | wahiawa\n",
      "Processing Record 27 of Set 4 | pointe michel\n",
      "Processing Record 28 of Set 4 | rosita\n",
      "Processing Record 29 of Set 4 | jega\n",
      "Processing Record 30 of Set 4 | aykhal\n",
      "Processing Record 31 of Set 4 | winnemucca\n",
      "Processing Record 32 of Set 4 | itaituba\n",
      "Processing Record 33 of Set 4 | balsta\n",
      "Processing Record 34 of Set 4 | krasnik\n",
      "Processing Record 35 of Set 4 | vaitape\n",
      "Processing Record 36 of Set 4 | wattegama\n",
      "City not found. Skipping...\n"
     ]
    },
    {
     "name": "stdout",
     "output_type": "stream",
     "text": [
      "Processing Record 37 of Set 4 | saint-pierre\n",
      "Processing Record 38 of Set 4 | cayenne\n",
      "Processing Record 39 of Set 4 | saskylakh\n",
      "Processing Record 40 of Set 4 | geraldton\n",
      "Processing Record 41 of Set 4 | binga\n",
      "Processing Record 42 of Set 4 | carnarvon\n",
      "City not found. Skipping...\n",
      "City not found. Skipping...\n",
      "Processing Record 43 of Set 4 | kochubey\n",
      "Processing Record 44 of Set 4 | hambantota\n",
      "Processing Record 45 of Set 4 | klaksvik\n",
      "Processing Record 46 of Set 4 | esperance\n",
      "Processing Record 47 of Set 4 | islamkot\n",
      "Processing Record 48 of Set 4 | bathsheba\n",
      "Processing Record 49 of Set 4 | sola\n",
      "Processing Record 50 of Set 4 | ribeira grande\n",
      "Processing Record 1 of Set 5 | constitucion\n",
      "Processing Record 2 of Set 5 | kattivakkam\n",
      "Processing Record 3 of Set 5 | nakusp\n",
      "Processing Record 4 of Set 5 | sabzevar\n",
      "Processing Record 5 of Set 5 | sorong\n",
      "Processing Record 6 of Set 5 | arraial do cabo\n",
      "Processing Record 7 of Set 5 | laguna\n",
      "Processing Record 8 of Set 5 | mahebourg\n",
      "City not found. Skipping...\n",
      "Processing Record 9 of Set 5 | victoria point\n",
      "Processing Record 10 of Set 5 | tasiilaq\n",
      "Processing Record 11 of Set 5 | fukue\n",
      "Processing Record 12 of Set 5 | shumskiy\n",
      "Processing Record 13 of Set 5 | benguela\n",
      "Processing Record 14 of Set 5 | ahuimanu\n",
      "Processing Record 15 of Set 5 | alexandria\n",
      "Processing Record 16 of Set 5 | kyrksaeterora\n",
      "Processing Record 17 of Set 5 | barreirinhas\n",
      "Processing Record 18 of Set 5 | yen bai\n",
      "Processing Record 19 of Set 5 | meulaboh\n",
      "Processing Record 20 of Set 5 | bakchar\n",
      "Processing Record 21 of Set 5 | muroto\n",
      "Processing Record 22 of Set 5 | kahului\n",
      "City not found. Skipping...\n",
      "Processing Record 23 of Set 5 | garissa\n",
      "Processing Record 24 of Set 5 | puerto colombia\n",
      "Processing Record 25 of Set 5 | acarau\n",
      "Processing Record 26 of Set 5 | ulenje\n",
      "Processing Record 27 of Set 5 | launceston\n",
      "Processing Record 28 of Set 5 | mar del plata\n",
      "Processing Record 29 of Set 5 | port-gentil\n",
      "Processing Record 30 of Set 5 | porangatu\n",
      "City not found. Skipping...\n",
      "City not found. Skipping...\n",
      "Processing Record 31 of Set 5 | umm lajj\n",
      "Processing Record 32 of Set 5 | east london\n",
      "Processing Record 33 of Set 5 | gat\n",
      "Processing Record 34 of Set 5 | longjiang\n",
      "Processing Record 35 of Set 5 | bethel\n",
      "Processing Record 36 of Set 5 | moree\n",
      "Processing Record 37 of Set 5 | tornabe\n",
      "Processing Record 38 of Set 5 | akhmim\n",
      "Processing Record 39 of Set 5 | ola\n",
      "Processing Record 40 of Set 5 | airai\n",
      "Processing Record 41 of Set 5 | charters towers\n",
      "Processing Record 42 of Set 5 | saint-philippe\n",
      "Processing Record 43 of Set 5 | polunochnoye\n",
      "Processing Record 44 of Set 5 | pangnirtung\n",
      "Processing Record 45 of Set 5 | cedral\n",
      "Processing Record 46 of Set 5 | pahrump\n",
      "Processing Record 47 of Set 5 | barcelos\n",
      "Processing Record 48 of Set 5 | bondo\n",
      "Processing Record 49 of Set 5 | honningsvag\n",
      "Processing Record 50 of Set 5 | tungor\n",
      "Processing Record 1 of Set 6 | vila franca do campo\n",
      "Processing Record 2 of Set 6 | general roca\n",
      "Processing Record 3 of Set 6 | rocha\n",
      "Processing Record 4 of Set 6 | cleethorpes\n",
      "Processing Record 5 of Set 6 | luderitz\n",
      "Processing Record 6 of Set 6 | espana\n",
      "City not found. Skipping...\n",
      "Processing Record 7 of Set 6 | mitsamiouli\n",
      "Processing Record 8 of Set 6 | grand-santi\n",
      "Processing Record 9 of Set 6 | posse\n",
      "Processing Record 10 of Set 6 | samarai\n",
      "City not found. Skipping...\n",
      "Processing Record 11 of Set 6 | mount holly\n",
      "Processing Record 12 of Set 6 | bahia blanca\n",
      "Processing Record 13 of Set 6 | yhu\n",
      "Processing Record 14 of Set 6 | novopavlovka\n",
      "Processing Record 15 of Set 6 | paamiut\n",
      "Processing Record 16 of Set 6 | shangqiu\n",
      "Processing Record 17 of Set 6 | georgetown\n",
      "Processing Record 18 of Set 6 | vostok\n",
      "Processing Record 19 of Set 6 | kibara\n",
      "Processing Record 20 of Set 6 | waingapu\n",
      "Processing Record 21 of Set 6 | victoria\n",
      "Processing Record 22 of Set 6 | udachnyy\n",
      "Processing Record 23 of Set 6 | khromtau\n",
      "Processing Record 24 of Set 6 | warrington\n",
      "Processing Record 25 of Set 6 | vung tau\n",
      "Processing Record 26 of Set 6 | siavonga\n",
      "Processing Record 27 of Set 6 | broken hill\n",
      "Processing Record 28 of Set 6 | baracoa\n",
      "City not found. Skipping...\n",
      "Processing Record 29 of Set 6 | ndende\n",
      "Processing Record 30 of Set 6 | new norfolk\n",
      "Processing Record 31 of Set 6 | talnakh\n",
      "Processing Record 32 of Set 6 | kitakata\n",
      "Processing Record 33 of Set 6 | port blair\n",
      "Processing Record 34 of Set 6 | shunyi\n",
      "Processing Record 35 of Set 6 | okhotsk\n",
      "Processing Record 36 of Set 6 | golpayegan\n",
      "Processing Record 37 of Set 6 | usinsk\n",
      "Processing Record 38 of Set 6 | dwarka\n",
      "Processing Record 39 of Set 6 | margate\n",
      "Processing Record 40 of Set 6 | san patricio\n",
      "Processing Record 41 of Set 6 | naze\n",
      "City not found. Skipping...\n",
      "Processing Record 42 of Set 6 | adelaide\n",
      "Processing Record 43 of Set 6 | yar-sale\n",
      "Processing Record 44 of Set 6 | mogok\n",
      "Processing Record 45 of Set 6 | belmonte\n",
      "Processing Record 46 of Set 6 | coihaique\n",
      "City not found. Skipping...\n",
      "Processing Record 47 of Set 6 | tarauaca\n",
      "Processing Record 48 of Set 6 | sabang\n",
      "City not found. Skipping...\n",
      "Processing Record 49 of Set 6 | hami\n",
      "City not found. Skipping...\n",
      "Processing Record 50 of Set 6 | san ignacio\n",
      "City not found. Skipping...\n",
      "Processing Record 1 of Set 7 | olafsvik\n",
      "Processing Record 2 of Set 7 | isabela\n",
      "Processing Record 3 of Set 7 | faya\n",
      "Processing Record 4 of Set 7 | tselinnoye\n",
      "Processing Record 5 of Set 7 | anchorage\n",
      "Processing Record 6 of Set 7 | buraydah\n",
      "Processing Record 7 of Set 7 | westport\n",
      "Processing Record 8 of Set 7 | camacha\n",
      "Processing Record 9 of Set 7 | la paz\n",
      "Processing Record 10 of Set 7 | bonavista\n",
      "Processing Record 11 of Set 7 | tanout\n",
      "Processing Record 12 of Set 7 | moerai\n",
      "Processing Record 13 of Set 7 | dawei\n",
      "Processing Record 14 of Set 7 | plyussa\n",
      "Processing Record 15 of Set 7 | lorengau\n",
      "Processing Record 16 of Set 7 | anito\n",
      "Processing Record 17 of Set 7 | xuddur\n",
      "City not found. Skipping...\n",
      "Processing Record 18 of Set 7 | cabo san lucas\n",
      "Processing Record 19 of Set 7 | uppsala\n",
      "Processing Record 20 of Set 7 | bambanglipuro\n",
      "Processing Record 21 of Set 7 | ambovombe\n",
      "City not found. Skipping...\n",
      "City not found. Skipping...\n",
      "Processing Record 22 of Set 7 | makakilo city\n",
      "Processing Record 23 of Set 7 | iqaluit\n",
      "Processing Record 24 of Set 7 | galle\n",
      "Processing Record 25 of Set 7 | tuatapere\n",
      "City not found. Skipping...\n",
      "City not found. Skipping...\n",
      "Processing Record 26 of Set 7 | aklavik\n",
      "Processing Record 27 of Set 7 | aquiraz\n",
      "Processing Record 28 of Set 7 | arlit\n",
      "Processing Record 29 of Set 7 | karlshamn\n",
      "Processing Record 30 of Set 7 | north platte\n",
      "City not found. Skipping...\n",
      "Processing Record 31 of Set 7 | gewane\n",
      "Processing Record 32 of Set 7 | port hedland\n",
      "Processing Record 33 of Set 7 | sistranda\n",
      "Processing Record 34 of Set 7 | sao filipe\n",
      "Processing Record 35 of Set 7 | obo\n",
      "Processing Record 36 of Set 7 | shelbyville\n",
      "Processing Record 37 of Set 7 | el cobre\n",
      "Processing Record 38 of Set 7 | bumba\n",
      "Processing Record 39 of Set 7 | beberibe\n",
      "Processing Record 40 of Set 7 | les cayes\n",
      "Processing Record 41 of Set 7 | gimli\n",
      "Processing Record 42 of Set 7 | hualmay\n",
      "Processing Record 43 of Set 7 | salalah\n",
      "Processing Record 44 of Set 7 | kilindoni\n",
      "Processing Record 45 of Set 7 | havre-saint-pierre\n",
      "Processing Record 46 of Set 7 | shingu\n",
      "Processing Record 47 of Set 7 | ribas do rio pardo\n",
      "Processing Record 48 of Set 7 | jalu\n",
      "Processing Record 49 of Set 7 | staroutkinsk\n",
      "Processing Record 50 of Set 7 | truro\n",
      "Processing Record 1 of Set 8 | west fargo\n",
      "Processing Record 2 of Set 8 | maniitsoq\n",
      "Processing Record 3 of Set 8 | gamba\n",
      "Processing Record 4 of Set 8 | bjornevatn\n",
      "Processing Record 5 of Set 8 | aden\n",
      "Processing Record 6 of Set 8 | aktau\n",
      "Processing Record 7 of Set 8 | zlatograd\n",
      "Processing Record 8 of Set 8 | bukachacha\n",
      "Processing Record 9 of Set 8 | gurupa\n",
      "Processing Record 10 of Set 8 | kota kinabalu\n",
      "Processing Record 11 of Set 8 | lincoln\n",
      "Processing Record 12 of Set 8 | lebanon\n",
      "Processing Record 13 of Set 8 | mabaruma\n",
      "Processing Record 14 of Set 8 | bilibino\n",
      "Processing Record 15 of Set 8 | baturaja\n",
      "Processing Record 16 of Set 8 | saint-joseph\n",
      "Processing Record 17 of Set 8 | xai-xai\n",
      "Processing Record 18 of Set 8 | scottsbluff\n",
      "Processing Record 19 of Set 8 | koshurnikovo\n",
      "Processing Record 20 of Set 8 | zakharovo\n",
      "Processing Record 21 of Set 8 | suntar\n",
      "Processing Record 22 of Set 8 | ossora\n",
      "Processing Record 23 of Set 8 | tessalit\n"
     ]
    },
    {
     "name": "stdout",
     "output_type": "stream",
     "text": [
      "City not found. Skipping...\n",
      "Processing Record 24 of Set 8 | valparaiso\n",
      "Processing Record 25 of Set 8 | herat\n",
      "Processing Record 26 of Set 8 | paralimni\n",
      "Processing Record 27 of Set 8 | zhigansk\n",
      "Processing Record 28 of Set 8 | namibe\n",
      "Processing Record 29 of Set 8 | minna\n",
      "Processing Record 30 of Set 8 | alofi\n",
      "Processing Record 31 of Set 8 | nizhniy baskunchak\n",
      "Processing Record 32 of Set 8 | porto novo\n",
      "Processing Record 33 of Set 8 | katsuura\n",
      "Processing Record 34 of Set 8 | taoudenni\n",
      "Processing Record 35 of Set 8 | dubbo\n",
      "City not found. Skipping...\n",
      "Processing Record 36 of Set 8 | labuhan\n",
      "Processing Record 37 of Set 8 | isiro\n",
      "Processing Record 38 of Set 8 | nome\n",
      "Processing Record 39 of Set 8 | awjilah\n",
      "Processing Record 40 of Set 8 | hobyo\n",
      "Processing Record 41 of Set 8 | nanortalik\n",
      "Processing Record 42 of Set 8 | luangwa\n",
      "Processing Record 43 of Set 8 | chicama\n",
      "Processing Record 44 of Set 8 | allanridge\n",
      "Processing Record 45 of Set 8 | kibala\n",
      "Processing Record 46 of Set 8 | nelson bay\n",
      "Processing Record 47 of Set 8 | koygorodok\n",
      "Processing Record 48 of Set 8 | pavlohrad\n",
      "Processing Record 49 of Set 8 | port augusta\n",
      "Processing Record 50 of Set 8 | svetlogorsk\n",
      "Processing Record 1 of Set 9 | midland\n",
      "Processing Record 2 of Set 9 | babayurt\n",
      "Processing Record 3 of Set 9 | chengde\n",
      "Processing Record 4 of Set 9 | baiersbronn\n",
      "Processing Record 5 of Set 9 | tiksi\n",
      "Processing Record 6 of Set 9 | fort nelson\n",
      "Processing Record 7 of Set 9 | el estor\n",
      "Processing Record 8 of Set 9 | lamu\n",
      "Processing Record 9 of Set 9 | san javier\n",
      "Processing Record 10 of Set 9 | kota tinggi\n",
      "Processing Record 11 of Set 9 | leningradskiy\n",
      "Processing Record 12 of Set 9 | upata\n",
      "Processing Record 13 of Set 9 | kiunga\n",
      "City not found. Skipping...\n",
      "Processing Record 14 of Set 9 | narsaq\n",
      "Processing Record 15 of Set 9 | narrabri\n",
      "Processing Record 16 of Set 9 | pandamatenga\n",
      "City not found. Skipping...\n",
      "Processing Record 17 of Set 9 | camocim\n",
      "Processing Record 18 of Set 9 | san quintin\n",
      "Processing Record 19 of Set 9 | zhaodong\n",
      "Processing Record 20 of Set 9 | santa cruz\n",
      "Processing Record 21 of Set 9 | anaimalai\n",
      "Processing Record 22 of Set 9 | sioux lookout\n",
      "Processing Record 23 of Set 9 | anadyr\n",
      "Processing Record 24 of Set 9 | san cristobal\n",
      "Processing Record 25 of Set 9 | kudahuvadhoo\n",
      "Processing Record 26 of Set 9 | saint-ambroise\n",
      "City not found. Skipping...\n",
      "Processing Record 27 of Set 9 | sayat\n",
      "Processing Record 28 of Set 9 | moindou\n",
      "Processing Record 29 of Set 9 | wuwei\n",
      "Processing Record 30 of Set 9 | atherton\n",
      "Processing Record 31 of Set 9 | mackay\n",
      "Processing Record 32 of Set 9 | mandalgovi\n",
      "City not found. Skipping...\n",
      "Processing Record 33 of Set 9 | mount isa\n",
      "Processing Record 34 of Set 9 | muzhi\n",
      "Processing Record 35 of Set 9 | petropavlovsk-kamchatskiy\n",
      "Processing Record 36 of Set 9 | wichita falls\n",
      "Processing Record 37 of Set 9 | ahipara\n",
      "Processing Record 38 of Set 9 | sao lourenco do sul\n",
      "Processing Record 39 of Set 9 | carballo\n",
      "Processing Record 40 of Set 9 | norman wells\n",
      "Processing Record 41 of Set 9 | faanui\n",
      "Processing Record 42 of Set 9 | tuy hoa\n",
      "Processing Record 43 of Set 9 | road town\n",
      "Processing Record 44 of Set 9 | calama\n",
      "Processing Record 45 of Set 9 | gold coast\n",
      "Processing Record 46 of Set 9 | lakes entrance\n",
      "Processing Record 47 of Set 9 | berdigestyakh\n",
      "Processing Record 48 of Set 9 | dunkirk\n",
      "Processing Record 49 of Set 9 | sao marcos\n",
      "Processing Record 50 of Set 9 | martinsville\n",
      "Processing Record 1 of Set 10 | dunmore east\n",
      "Processing Record 2 of Set 10 | krasnyy chikoy\n",
      "Processing Record 3 of Set 10 | lingao\n",
      "Processing Record 4 of Set 10 | marakkanam\n",
      "Processing Record 5 of Set 10 | lensk\n",
      "Processing Record 6 of Set 10 | tezu\n",
      "Processing Record 7 of Set 10 | hurghada\n",
      "Processing Record 8 of Set 10 | grand gaube\n",
      "Processing Record 9 of Set 10 | horni sucha\n",
      "Processing Record 10 of Set 10 | padang\n",
      "Processing Record 11 of Set 10 | zyryanka\n",
      "Processing Record 12 of Set 10 | qaqortoq\n",
      "Processing Record 13 of Set 10 | ribeira brava\n",
      "Processing Record 14 of Set 10 | san angelo\n",
      "Processing Record 15 of Set 10 | hibbing\n",
      "Processing Record 16 of Set 10 | mahibadhoo\n",
      "Processing Record 17 of Set 10 | voskresenskoye\n",
      "Processing Record 18 of Set 10 | humberto de campos\n",
      "Processing Record 19 of Set 10 | roebourne\n",
      "Processing Record 20 of Set 10 | antofagasta\n",
      "Processing Record 21 of Set 10 | college\n",
      "Processing Record 22 of Set 10 | wanaka\n",
      "Processing Record 23 of Set 10 | pisco\n",
      "Processing Record 24 of Set 10 | taltal\n",
      "City not found. Skipping...\n",
      "Processing Record 25 of Set 10 | belaya gora\n",
      "Processing Record 26 of Set 10 | belyy yar\n",
      "Processing Record 27 of Set 10 | ghanzi\n",
      "Processing Record 28 of Set 10 | rzeszow\n",
      "Processing Record 29 of Set 10 | nhulunbuy\n",
      "Processing Record 30 of Set 10 | vestmannaeyjar\n",
      "Processing Record 31 of Set 10 | saint-leu\n",
      "Processing Record 32 of Set 10 | egvekinot\n",
      "Processing Record 33 of Set 10 | manokwari\n",
      "Processing Record 34 of Set 10 | magdalena\n",
      "Processing Record 35 of Set 10 | gilgit\n",
      "Processing Record 36 of Set 10 | flinders\n",
      "Processing Record 37 of Set 10 | sakaiminato\n",
      "Processing Record 38 of Set 10 | lgov\n",
      "Processing Record 39 of Set 10 | mount pleasant\n",
      "Processing Record 40 of Set 10 | maragogi\n",
      "Processing Record 41 of Set 10 | itanhem\n",
      "Processing Record 42 of Set 10 | bubaque\n",
      "Processing Record 43 of Set 10 | gurlan\n",
      "Processing Record 44 of Set 10 | yerbogachen\n",
      "Processing Record 45 of Set 10 | chimbote\n",
      "City not found. Skipping...\n",
      "Processing Record 46 of Set 10 | nawa\n",
      "Processing Record 47 of Set 10 | angoram\n",
      "Processing Record 48 of Set 10 | buala\n",
      "Processing Record 49 of Set 10 | adrar\n",
      "Processing Record 50 of Set 10 | la palma\n",
      "Processing Record 1 of Set 11 | amnat charoen\n",
      "Processing Record 2 of Set 11 | ancud\n",
      "Processing Record 3 of Set 11 | panguna\n",
      "Processing Record 4 of Set 11 | qeshm\n",
      "Processing Record 5 of Set 11 | axim\n",
      "Processing Record 6 of Set 11 | clyde\n",
      "Processing Record 7 of Set 11 | clearwater\n",
      "Processing Record 8 of Set 11 | arona\n",
      "Processing Record 9 of Set 11 | auki\n",
      "Processing Record 10 of Set 11 | lukulu\n",
      "Processing Record 11 of Set 11 | whitianga\n",
      "City not found. Skipping...\n",
      "Processing Record 12 of Set 11 | balkanabat\n",
      "Processing Record 13 of Set 11 | iquique\n",
      "Processing Record 14 of Set 11 | la asuncion\n",
      "Processing Record 15 of Set 11 | puerto penasco\n",
      "Processing Record 16 of Set 11 | la ronge\n",
      "Processing Record 17 of Set 11 | kampene\n",
      "Processing Record 18 of Set 11 | neftcala\n",
      "Processing Record 19 of Set 11 | oriximina\n",
      "Processing Record 20 of Set 11 | salto de agua\n",
      "Processing Record 21 of Set 11 | gizycko\n",
      "Processing Record 22 of Set 11 | bereda\n",
      "Processing Record 23 of Set 11 | nizhnevartovsk\n",
      "Processing Record 24 of Set 11 | liverpool\n",
      "Processing Record 25 of Set 11 | makrana\n",
      "Processing Record 26 of Set 11 | irricana\n",
      "Processing Record 27 of Set 11 | vila velha\n",
      "Processing Record 28 of Set 11 | san rafael\n",
      "Processing Record 29 of Set 11 | araria\n",
      "Processing Record 30 of Set 11 | alice springs\n",
      "Processing Record 31 of Set 11 | melbu\n",
      "Processing Record 32 of Set 11 | rassvet\n",
      "Processing Record 33 of Set 11 | mweka\n",
      "Processing Record 34 of Set 11 | vila\n",
      "Processing Record 35 of Set 11 | bandarbeyla\n",
      "Processing Record 36 of Set 11 | puerto carreno\n",
      "City not found. Skipping...\n",
      "Processing Record 37 of Set 11 | santa marta\n",
      "Processing Record 38 of Set 11 | sinnamary\n",
      "Processing Record 39 of Set 11 | lodja\n",
      "Processing Record 40 of Set 11 | botou\n",
      "Processing Record 41 of Set 11 | baculin\n",
      "Processing Record 42 of Set 11 | peace river\n",
      "Processing Record 43 of Set 11 | bayji\n",
      "City not found. Skipping...\n",
      "Processing Record 44 of Set 11 | balclutha\n",
      "Processing Record 45 of Set 11 | balykshi\n",
      "Processing Record 46 of Set 11 | urucara\n",
      "Processing Record 47 of Set 11 | beloha\n",
      "Processing Record 48 of Set 11 | estelle\n",
      "Processing Record 49 of Set 11 | alghero\n",
      "City not found. Skipping...\n",
      "Processing Record 50 of Set 11 | cabedelo\n",
      "Processing Record 1 of Set 12 | linxia\n",
      "Processing Record 2 of Set 12 | henties bay\n",
      "Processing Record 3 of Set 12 | san carlos de bariloche\n",
      "Processing Record 4 of Set 12 | moron\n",
      "Processing Record 5 of Set 12 | plouzane\n",
      "Processing Record 6 of Set 12 | bartica\n",
      "Processing Record 7 of Set 12 | rapar\n",
      "Processing Record 8 of Set 12 | zambezi\n",
      "Processing Record 9 of Set 12 | tateyama\n",
      "City not found. Skipping...\n",
      "Processing Record 10 of Set 12 | rawson\n",
      "Processing Record 11 of Set 12 | quatre cocos\n"
     ]
    },
    {
     "name": "stdout",
     "output_type": "stream",
     "text": [
      "City not found. Skipping...\n",
      "Processing Record 12 of Set 12 | mouila\n",
      "Processing Record 13 of Set 12 | kyzyl-suu\n",
      "Processing Record 14 of Set 12 | oum hadjer\n",
      "Processing Record 15 of Set 12 | kang\n",
      "Processing Record 16 of Set 12 | srednekolymsk\n",
      "Processing Record 17 of Set 12 | chapais\n",
      "Processing Record 18 of Set 12 | leh\n",
      "Processing Record 19 of Set 12 | zhezkazgan\n",
      "Processing Record 20 of Set 12 | sambava\n",
      "Processing Record 21 of Set 12 | prince george\n",
      "Processing Record 22 of Set 12 | dublin\n",
      "Processing Record 23 of Set 12 | puerto narino\n",
      "Processing Record 24 of Set 12 | yatou\n",
      "Processing Record 25 of Set 12 | toul\n",
      "Processing Record 26 of Set 12 | bahar\n",
      "Processing Record 27 of Set 12 | arman\n",
      "Processing Record 28 of Set 12 | halifax\n",
      "Processing Record 29 of Set 12 | sidney\n",
      "Processing Record 30 of Set 12 | mozelos\n",
      "Processing Record 31 of Set 12 | clyde river\n",
      "Processing Record 32 of Set 12 | primero de enero\n",
      "------------------------\n",
      "Data Retrieval Complete\n",
      "------------------------\n"
     ]
    }
   ],
   "source": [
    "cloudiness = []\n",
    "country = []\n",
    "date = []\n",
    "humidity = []\n",
    "lng = []\n",
    "lat = []\n",
    "max_temp = []\n",
    "wind = []\n",
    "final_city = []\n",
    "counter = 1\n",
    "set_ = 1\n",
    "\n",
    "print(\"------------------------\")\n",
    "print(\"Beginning Data Retrieval\")\n",
    "print(\"------------------------\")\n",
    "\n",
    "for city in cities:\n",
    "    try:\n",
    "        target_city=city\n",
    "        target_url = f\"{url}appid={weather_api_key}&units={units}&q={target_city}\"\n",
    "        response=requests.get(target_url).json()\n",
    "        final_city.append(response['name'])\n",
    "        cloudiness.append(response['clouds']['all'])\n",
    "        country.append(response['sys']['country'])\n",
    "        date.append(response['dt'])\n",
    "        humidity.append(response['main']['humidity'])\n",
    "        lng.append(response['coord']['lon'])\n",
    "        lat.append(response['coord']['lat'])\n",
    "        max_temp.append(response['main']['temp_max'])\n",
    "        wind.append(response['wind']['speed'])\n",
    "        \n",
    "        print(f\"Processing Record {counter} of Set {set_} | {city}\")\n",
    "        \n",
    "        if counter %50==0:\n",
    "            set_ = set_ + 1\n",
    "            counter = 0\n",
    "        \n",
    "        counter = counter + 1\n",
    "        \n",
    "    except:\n",
    "        print(\"City not found. Skipping...\")\n",
    "        pass\n",
    "    \n",
    "print(\"------------------------\")\n",
    "print(\"Data Retrieval Complete\")\n",
    "print(\"------------------------\")"
   ]
  },
  {
   "cell_type": "code",
   "execution_count": 5,
   "metadata": {},
   "outputs": [],
   "source": [
    "weather_df=pd.DataFrame({\"City\":final_city,\n",
    "                        \"Cloudiness\": cloudiness,\n",
    "                        \"Country\": country,\n",
    "                        \"Date\": date,\n",
    "                        \"Humidity\": humidity,\n",
    "                        \"Lat\": lat,\n",
    "                        \"Long\": lng,\n",
    "                        \"Max Temp\": max_temp,\n",
    "                        \"Wind Speed\": wind})"
   ]
  },
  {
   "cell_type": "markdown",
   "metadata": {},
   "source": [
    "### Convert Raw Data to DataFrame\n",
    "* Export the city data into a .csv.\n",
    "* Display the DataFrame"
   ]
  },
  {
   "cell_type": "code",
   "execution_count": 6,
   "metadata": {},
   "outputs": [],
   "source": [
    "weather_df.to_csv(output_data_file)"
   ]
  },
  {
   "cell_type": "code",
   "execution_count": 7,
   "metadata": {},
   "outputs": [
    {
     "data": {
      "text/html": [
       "<div>\n",
       "<style scoped>\n",
       "    .dataframe tbody tr th:only-of-type {\n",
       "        vertical-align: middle;\n",
       "    }\n",
       "\n",
       "    .dataframe tbody tr th {\n",
       "        vertical-align: top;\n",
       "    }\n",
       "\n",
       "    .dataframe thead th {\n",
       "        text-align: right;\n",
       "    }\n",
       "</style>\n",
       "<table border=\"1\" class=\"dataframe\">\n",
       "  <thead>\n",
       "    <tr style=\"text-align: right;\">\n",
       "      <th></th>\n",
       "      <th>City</th>\n",
       "      <th>Cloudiness</th>\n",
       "      <th>Country</th>\n",
       "      <th>Date</th>\n",
       "      <th>Humidity</th>\n",
       "      <th>Lat</th>\n",
       "      <th>Long</th>\n",
       "      <th>Max Temp</th>\n",
       "      <th>Wind Speed</th>\n",
       "    </tr>\n",
       "  </thead>\n",
       "  <tbody>\n",
       "    <tr>\n",
       "      <th>0</th>\n",
       "      <td>Dunedin</td>\n",
       "      <td>54</td>\n",
       "      <td>NZ</td>\n",
       "      <td>1603993480</td>\n",
       "      <td>93</td>\n",
       "      <td>-45.87</td>\n",
       "      <td>170.50</td>\n",
       "      <td>53.01</td>\n",
       "      <td>8.01</td>\n",
       "    </tr>\n",
       "    <tr>\n",
       "      <th>1</th>\n",
       "      <td>Butaritari</td>\n",
       "      <td>68</td>\n",
       "      <td>KI</td>\n",
       "      <td>1603993480</td>\n",
       "      <td>77</td>\n",
       "      <td>3.07</td>\n",
       "      <td>172.79</td>\n",
       "      <td>81.73</td>\n",
       "      <td>12.57</td>\n",
       "    </tr>\n",
       "    <tr>\n",
       "      <th>2</th>\n",
       "      <td>Bluff</td>\n",
       "      <td>86</td>\n",
       "      <td>NZ</td>\n",
       "      <td>1603992926</td>\n",
       "      <td>91</td>\n",
       "      <td>-46.60</td>\n",
       "      <td>168.33</td>\n",
       "      <td>52.00</td>\n",
       "      <td>3.00</td>\n",
       "    </tr>\n",
       "    <tr>\n",
       "      <th>3</th>\n",
       "      <td>Castro</td>\n",
       "      <td>100</td>\n",
       "      <td>BR</td>\n",
       "      <td>1603993480</td>\n",
       "      <td>59</td>\n",
       "      <td>-24.79</td>\n",
       "      <td>-50.01</td>\n",
       "      <td>71.15</td>\n",
       "      <td>12.06</td>\n",
       "    </tr>\n",
       "    <tr>\n",
       "      <th>4</th>\n",
       "      <td>Ndélé</td>\n",
       "      <td>88</td>\n",
       "      <td>CF</td>\n",
       "      <td>1603993480</td>\n",
       "      <td>53</td>\n",
       "      <td>8.41</td>\n",
       "      <td>20.65</td>\n",
       "      <td>78.35</td>\n",
       "      <td>2.08</td>\n",
       "    </tr>\n",
       "  </tbody>\n",
       "</table>\n",
       "</div>"
      ],
      "text/plain": [
       "         City  Cloudiness Country        Date  Humidity    Lat    Long  \\\n",
       "0     Dunedin          54      NZ  1603993480        93 -45.87  170.50   \n",
       "1  Butaritari          68      KI  1603993480        77   3.07  172.79   \n",
       "2       Bluff          86      NZ  1603992926        91 -46.60  168.33   \n",
       "3      Castro         100      BR  1603993480        59 -24.79  -50.01   \n",
       "4       Ndélé          88      CF  1603993480        53   8.41   20.65   \n",
       "\n",
       "   Max Temp  Wind Speed  \n",
       "0     53.01        8.01  \n",
       "1     81.73       12.57  \n",
       "2     52.00        3.00  \n",
       "3     71.15       12.06  \n",
       "4     78.35        2.08  "
      ]
     },
     "execution_count": 7,
     "metadata": {},
     "output_type": "execute_result"
    }
   ],
   "source": [
    "weather_df.head()"
   ]
  },
  {
   "cell_type": "markdown",
   "metadata": {},
   "source": [
    "## Inspect the data and remove the cities where the humidity > 100%.\n",
    "----\n",
    "Skip this step if there are no cities that have humidity > 100%. "
   ]
  },
  {
   "cell_type": "code",
   "execution_count": 8,
   "metadata": {},
   "outputs": [],
   "source": [
    "weather_df[\"Humidity\"] = pd.to_numeric(weather_df[\"Humidity\"])\n",
    "\n",
    "humidity_df = weather_df.loc[weather_df[\"Humidity\"] > 100]"
   ]
  },
  {
   "cell_type": "code",
   "execution_count": 9,
   "metadata": {},
   "outputs": [
    {
     "data": {
      "text/html": [
       "<div>\n",
       "<style scoped>\n",
       "    .dataframe tbody tr th:only-of-type {\n",
       "        vertical-align: middle;\n",
       "    }\n",
       "\n",
       "    .dataframe tbody tr th {\n",
       "        vertical-align: top;\n",
       "    }\n",
       "\n",
       "    .dataframe thead th {\n",
       "        text-align: right;\n",
       "    }\n",
       "</style>\n",
       "<table border=\"1\" class=\"dataframe\">\n",
       "  <thead>\n",
       "    <tr style=\"text-align: right;\">\n",
       "      <th></th>\n",
       "      <th>City</th>\n",
       "      <th>Cloudiness</th>\n",
       "      <th>Country</th>\n",
       "      <th>Date</th>\n",
       "      <th>Humidity</th>\n",
       "      <th>Lat</th>\n",
       "      <th>Long</th>\n",
       "      <th>Max Temp</th>\n",
       "      <th>Wind Speed</th>\n",
       "    </tr>\n",
       "  </thead>\n",
       "  <tbody>\n",
       "  </tbody>\n",
       "</table>\n",
       "</div>"
      ],
      "text/plain": [
       "Empty DataFrame\n",
       "Columns: [City, Cloudiness, Country, Date, Humidity, Lat, Long, Max Temp, Wind Speed]\n",
       "Index: []"
      ]
     },
     "execution_count": 9,
     "metadata": {},
     "output_type": "execute_result"
    }
   ],
   "source": [
    "#  Get the indices of cities that have humidity over 100%.\n",
    "humidity_df.head()"
   ]
  },
  {
   "cell_type": "code",
   "execution_count": 10,
   "metadata": {},
   "outputs": [],
   "source": [
    "# Make a new DataFrame equal to the city data to drop all humidity outliers by index.\n",
    "# Passing \"inplace=False\" will make a copy of the city_data DataFrame, which we call \"clean_city_data\".\n"
   ]
  },
  {
   "cell_type": "markdown",
   "metadata": {},
   "source": [
    "## Plotting the Data\n",
    "* Use proper labeling of the plots using plot titles (including date of analysis) and axes labels.\n",
    "* Save the plotted figures as .pngs."
   ]
  },
  {
   "cell_type": "markdown",
   "metadata": {},
   "source": [
    "## Latitude vs. Temperature Plot"
   ]
  },
  {
   "cell_type": "code",
   "execution_count": 11,
   "metadata": {
    "scrolled": true
   },
   "outputs": [
    {
     "data": {
      "image/png": "[encoded data removed]",
      "text/plain": [
       "<Figure size 432x288 with 1 Axes>"
      ]
     },
     "metadata": {
      "needs_background": "light"
     },
     "output_type": "display_data"
    }
   ],
   "source": [
    "x=weather_df['Lat']\n",
    "y=weather_df['Max Temp']\n",
    "\n",
    "plt.scatter(x,y, marker='o')\n",
    "plt.ylabel('Max Temperature (F)')\n",
    "plt.xlabel('Latitude')\n",
    "plt.title('Latitude v Max Temperature (10/29/20)')\n",
    "plt.grid()\n",
    "\n",
    "plt.savefig(\"Latitude v Max Temperature.png\")\n",
    "plt.show()"
   ]
  },
  {
   "cell_type": "markdown",
   "metadata": {},
   "source": [
    "The Latitude v Max Temperature scatterplot shows that as the temperature approaches zero from both the negative and positive latitude, max temperature increases."
   ]
  },
  {
   "cell_type": "markdown",
   "metadata": {},
   "source": [
    "## Latitude vs. Humidity Plot"
   ]
  },
  {
   "cell_type": "code",
   "execution_count": 12,
   "metadata": {},
   "outputs": [
    {
     "data": {
      "image/png": "[encoded data removed]",
      "text/plain": [
       "<Figure size 432x288 with 1 Axes>"
      ]
     },
     "metadata": {
      "needs_background": "light"
     },
     "output_type": "display_data"
    }
   ],
   "source": [
    "x=weather_df['Lat']\n",
    "y=weather_df['Humidity']\n",
    "\n",
    "plt.scatter(x,y, marker='o')\n",
    "plt.ylabel('Max Temperature (F)')\n",
    "plt.xlabel('Humidity (%)')\n",
    "plt.title('Humidity v Max Temperature (10/29/20)')\n",
    "plt.grid()\n",
    "\n",
    "plt.savefig(\"Latitude v Humidity.png\")\n",
    "plt.show()"
   ]
  },
  {
   "cell_type": "markdown",
   "metadata": {},
   "source": [
    "The Humidity v Max Temperature plot shows there is not much of a correlation between humidity and max temperature."
   ]
  },
  {
   "cell_type": "markdown",
   "metadata": {},
   "source": [
    "## Latitude vs. Cloudiness Plot"
   ]
  },
  {
   "cell_type": "code",
   "execution_count": 13,
   "metadata": {},
   "outputs": [
    {
     "data": {
      "image/png": "[encoded data removed]",
      "text/plain": [
       "<Figure size 432x288 with 1 Axes>"
      ]
     },
     "metadata": {
      "needs_background": "light"
     },
     "output_type": "display_data"
    }
   ],
   "source": [
    "x=weather_df['Lat']\n",
    "y=weather_df['Cloudiness']\n",
    "\n",
    "plt.scatter(x,y, marker='o')\n",
    "plt.ylabel('Cloudiness (%)')\n",
    "plt.xlabel('Latitude')\n",
    "plt.title('Latitude v Cloudiness (10/29/20)')\n",
    "plt.grid()\n",
    "\n",
    "plt.savefig(\"Latitude v Cloudiness.png\")\n",
    "plt.show()"
   ]
  },
  {
   "cell_type": "markdown",
   "metadata": {},
   "source": [
    "The Latitude v Cloudiness scatterplot shows no correlation between latitude and cloudiness. There seems to be more latitude points specifically at the 100%, ~75%, 40%, and 0% cloudiness. "
   ]
  },
  {
   "cell_type": "markdown",
   "metadata": {},
   "source": [
    "## Latitude vs. Wind Speed Plot"
   ]
  },
  {
   "cell_type": "code",
   "execution_count": 14,
   "metadata": {},
   "outputs": [
    {
     "data": {
      "image/png": "[encoded data removed]",
      "text/plain": [
       "<Figure size 432x288 with 1 Axes>"
      ]
     },
     "metadata": {
      "needs_background": "light"
     },
     "output_type": "display_data"
    }
   ],
   "source": [
    "x=weather_df['Lat']\n",
    "y=weather_df['Wind Speed']\n",
    "\n",
    "plt.scatter(x,y, marker='o')\n",
    "plt.ylabel('Wind Speed (mph)')\n",
    "plt.xlabel('Latitude')\n",
    "plt.title('Latitude v Wind Speed (10/29/20)')\n",
    "plt.grid()\n",
    "\n",
    "plt.savefig(\"Latitude v Wind Speed.png\")\n",
    "plt.show()"
   ]
  },
  {
   "cell_type": "markdown",
   "metadata": {},
   "source": [
    "The Latitude v Wind speed scatterplot shows no correlation between latitude and wind speed."
   ]
  },
  {
   "cell_type": "markdown",
   "metadata": {},
   "source": [
    "## Linear Regression"
   ]
  },
  {
   "cell_type": "code",
   "execution_count": 15,
   "metadata": {},
   "outputs": [
    {
     "data": {
      "text/html": [
       "<div>\n",
       "<style scoped>\n",
       "    .dataframe tbody tr th:only-of-type {\n",
       "        vertical-align: middle;\n",
       "    }\n",
       "\n",
       "    .dataframe tbody tr th {\n",
       "        vertical-align: top;\n",
       "    }\n",
       "\n",
       "    .dataframe thead th {\n",
       "        text-align: right;\n",
       "    }\n",
       "</style>\n",
       "<table border=\"1\" class=\"dataframe\">\n",
       "  <thead>\n",
       "    <tr style=\"text-align: right;\">\n",
       "      <th></th>\n",
       "      <th>City</th>\n",
       "      <th>Cloudiness</th>\n",
       "      <th>Country</th>\n",
       "      <th>Date</th>\n",
       "      <th>Humidity</th>\n",
       "      <th>Lat</th>\n",
       "      <th>Long</th>\n",
       "      <th>Max Temp</th>\n",
       "      <th>Wind Speed</th>\n",
       "    </tr>\n",
       "  </thead>\n",
       "  <tbody>\n",
       "    <tr>\n",
       "      <th>0</th>\n",
       "      <td>Dunedin</td>\n",
       "      <td>54</td>\n",
       "      <td>NZ</td>\n",
       "      <td>1603993480</td>\n",
       "      <td>93</td>\n",
       "      <td>-45.87</td>\n",
       "      <td>170.50</td>\n",
       "      <td>53.01</td>\n",
       "      <td>8.01</td>\n",
       "    </tr>\n",
       "    <tr>\n",
       "      <th>2</th>\n",
       "      <td>Bluff</td>\n",
       "      <td>86</td>\n",
       "      <td>NZ</td>\n",
       "      <td>1603992926</td>\n",
       "      <td>91</td>\n",
       "      <td>-46.60</td>\n",
       "      <td>168.33</td>\n",
       "      <td>52.00</td>\n",
       "      <td>3.00</td>\n",
       "    </tr>\n",
       "    <tr>\n",
       "      <th>3</th>\n",
       "      <td>Castro</td>\n",
       "      <td>100</td>\n",
       "      <td>BR</td>\n",
       "      <td>1603993480</td>\n",
       "      <td>59</td>\n",
       "      <td>-24.79</td>\n",
       "      <td>-50.01</td>\n",
       "      <td>71.15</td>\n",
       "      <td>12.06</td>\n",
       "    </tr>\n",
       "    <tr>\n",
       "      <th>7</th>\n",
       "      <td>Nioki</td>\n",
       "      <td>17</td>\n",
       "      <td>CD</td>\n",
       "      <td>1603993481</td>\n",
       "      <td>91</td>\n",
       "      <td>-2.72</td>\n",
       "      <td>17.68</td>\n",
       "      <td>74.10</td>\n",
       "      <td>3.91</td>\n",
       "    </tr>\n",
       "    <tr>\n",
       "      <th>16</th>\n",
       "      <td>Ushuaia</td>\n",
       "      <td>75</td>\n",
       "      <td>AR</td>\n",
       "      <td>1603993232</td>\n",
       "      <td>81</td>\n",
       "      <td>-54.80</td>\n",
       "      <td>-68.30</td>\n",
       "      <td>46.40</td>\n",
       "      <td>34.45</td>\n",
       "    </tr>\n",
       "    <tr>\n",
       "      <th>...</th>\n",
       "      <td>...</td>\n",
       "      <td>...</td>\n",
       "      <td>...</td>\n",
       "      <td>...</td>\n",
       "      <td>...</td>\n",
       "      <td>...</td>\n",
       "      <td>...</td>\n",
       "      <td>...</td>\n",
       "      <td>...</td>\n",
       "    </tr>\n",
       "    <tr>\n",
       "      <th>561</th>\n",
       "      <td>Mouila</td>\n",
       "      <td>77</td>\n",
       "      <td>GA</td>\n",
       "      <td>1603993608</td>\n",
       "      <td>91</td>\n",
       "      <td>-1.87</td>\n",
       "      <td>11.06</td>\n",
       "      <td>75.81</td>\n",
       "      <td>3.58</td>\n",
       "    </tr>\n",
       "    <tr>\n",
       "      <th>564</th>\n",
       "      <td>Kang</td>\n",
       "      <td>27</td>\n",
       "      <td>BW</td>\n",
       "      <td>1603993609</td>\n",
       "      <td>15</td>\n",
       "      <td>-23.68</td>\n",
       "      <td>22.79</td>\n",
       "      <td>85.96</td>\n",
       "      <td>5.10</td>\n",
       "    </tr>\n",
       "    <tr>\n",
       "      <th>569</th>\n",
       "      <td>Sambava</td>\n",
       "      <td>7</td>\n",
       "      <td>MG</td>\n",
       "      <td>1603993610</td>\n",
       "      <td>83</td>\n",
       "      <td>-14.27</td>\n",
       "      <td>50.17</td>\n",
       "      <td>73.87</td>\n",
       "      <td>12.28</td>\n",
       "    </tr>\n",
       "    <tr>\n",
       "      <th>572</th>\n",
       "      <td>Puerto Nariño</td>\n",
       "      <td>75</td>\n",
       "      <td>CO</td>\n",
       "      <td>1603993610</td>\n",
       "      <td>67</td>\n",
       "      <td>-3.77</td>\n",
       "      <td>-70.38</td>\n",
       "      <td>93.20</td>\n",
       "      <td>8.05</td>\n",
       "    </tr>\n",
       "    <tr>\n",
       "      <th>578</th>\n",
       "      <td>Sydney</td>\n",
       "      <td>0</td>\n",
       "      <td>AU</td>\n",
       "      <td>1603993370</td>\n",
       "      <td>87</td>\n",
       "      <td>-33.87</td>\n",
       "      <td>151.21</td>\n",
       "      <td>57.20</td>\n",
       "      <td>3.20</td>\n",
       "    </tr>\n",
       "  </tbody>\n",
       "</table>\n",
       "<p>199 rows × 9 columns</p>\n",
       "</div>"
      ],
      "text/plain": [
       "              City  Cloudiness Country        Date  Humidity    Lat    Long  \\\n",
       "0          Dunedin          54      NZ  1603993480        93 -45.87  170.50   \n",
       "2            Bluff          86      NZ  1603992926        91 -46.60  168.33   \n",
       "3           Castro         100      BR  1603993480        59 -24.79  -50.01   \n",
       "7            Nioki          17      CD  1603993481        91  -2.72   17.68   \n",
       "16         Ushuaia          75      AR  1603993232        81 -54.80  -68.30   \n",
       "..             ...         ...     ...         ...       ...    ...     ...   \n",
       "561         Mouila          77      GA  1603993608        91  -1.87   11.06   \n",
       "564           Kang          27      BW  1603993609        15 -23.68   22.79   \n",
       "569        Sambava           7      MG  1603993610        83 -14.27   50.17   \n",
       "572  Puerto Nariño          75      CO  1603993610        67  -3.77  -70.38   \n",
       "578         Sydney           0      AU  1603993370        87 -33.87  151.21   \n",
       "\n",
       "     Max Temp  Wind Speed  \n",
       "0       53.01        8.01  \n",
       "2       52.00        3.00  \n",
       "3       71.15       12.06  \n",
       "7       74.10        3.91  \n",
       "16      46.40       34.45  \n",
       "..        ...         ...  \n",
       "561     75.81        3.58  \n",
       "564     85.96        5.10  \n",
       "569     73.87       12.28  \n",
       "572     93.20        8.05  \n",
       "578     57.20        3.20  \n",
       "\n",
       "[199 rows x 9 columns]"
      ]
     },
     "execution_count": 15,
     "metadata": {},
     "output_type": "execute_result"
    }
   ],
   "source": [
    "#Northern and Southern hemispheres\n",
    "weather_df[\"Lat\"] = pd.to_numeric(weather_df[\"Lat\"])\n",
    "\n",
    "northern_df = weather_df.loc[weather_df[\"Lat\"] >= 0]\n",
    "southern_df = weather_df.loc[weather_df[\"Lat\"] < 0]\n",
    "\n",
    "southern_df"
   ]
  },
  {
   "cell_type": "markdown",
   "metadata": {},
   "source": [
    "####  Northern Hemisphere - Max Temp vs. Latitude Linear Regression"
   ]
  },
  {
   "cell_type": "code",
   "execution_count": 16,
   "metadata": {},
   "outputs": [
    {
     "name": "stdout",
     "output_type": "stream",
     "text": [
      "The r-value is: -0.8836518221954276\n"
     ]
    },
    {
     "data": {
      "image/png": "[encoded data removed]",
      "text/plain": [
       "<Figure size 432x288 with 1 Axes>"
      ]
     },
     "metadata": {
      "needs_background": "light"
     },
     "output_type": "display_data"
    }
   ],
   "source": [
    "northern_lat = northern_df[\"Lat\"]\n",
    "northern_temp = northern_df[\"Max Temp\"]\n",
    "\n",
    "n_slope, n_int, n_r, n_p, n_std_err = stats.linregress(northern_lat, northern_temp)\n",
    "n_fit = n_slope * northern_lat + n_int\n",
    "line_eq = \"y = \" + str(round(n_slope,2)) + \"x + \" + str(round(n_int,2))\n",
    "\n",
    "plt.scatter(northern_lat,northern_temp)\n",
    "plt.plot(northern_lat,n_fit,\"r-\")\n",
    "plt.annotate(line_eq,(10,-10),fontsize=15,color=\"red\")\n",
    "plt.ylabel('Max Temp (F)')\n",
    "plt.xlabel('Latitude')\n",
    "plt.title('Latitude v Max Temp (Northern Hemisphere)')\n",
    "\n",
    "print(f\"The r-value is: {n_r}\")\n",
    "\n",
    "plt.savefig(\"Latitude vs Max Temp (Northern Hemisphere).png\")\n",
    "plt.show()"
   ]
  },
  {
   "cell_type": "markdown",
   "metadata": {},
   "source": [
    "The northern hemisphere Latitude v Max Temp scatterplot and line regression show a strong negative correlation: as latitude goes farther from the equator, max temperature decreases."
   ]
  },
  {
   "cell_type": "markdown",
   "metadata": {},
   "source": [
    "####  Southern Hemisphere - Max Temp vs. Latitude Linear Regression"
   ]
  },
  {
   "cell_type": "code",
   "execution_count": 17,
   "metadata": {},
   "outputs": [
    {
     "name": "stdout",
     "output_type": "stream",
     "text": [
      "The r-value is: 0.7668953627957694\n"
     ]
    },
    {
     "data": {
      "image/png": "[encoded data removed]",
      "text/plain": [
       "<Figure size 432x288 with 1 Axes>"
      ]
     },
     "metadata": {
      "needs_background": "light"
     },
     "output_type": "display_data"
    }
   ],
   "source": [
    "southern_lat = southern_df[\"Lat\"]\n",
    "southern_temp = southern_df[\"Max Temp\"]\n",
    "\n",
    "s_slope, s_int, s_r, s_p, s_std_err = stats.linregress(southern_lat, southern_temp)\n",
    "s_fit = s_slope * southern_lat + s_int\n",
    "line_eq = \"y = \" + str(round(n_slope,2)) + \"x + \" + str(round(n_int,2))\n",
    "\n",
    "plt.scatter(southern_lat, southern_temp)\n",
    "plt.plot(southern_lat,s_fit,\"r-\")\n",
    "plt.annotate(line_eq,(-50,30),fontsize=15,color=\"red\")\n",
    "plt.ylabel('Max Temp (F)')\n",
    "plt.xlabel('Latitude')\n",
    "plt.title('Latitude v Max Temp (Southern Hemisphere)')\n",
    "\n",
    "print(f\"The r-value is: {s_r}\")\n",
    "\n",
    "plt.savefig(\"Latitude vs Max Temp (Southern Hemisphere).png\")\n",
    "plt.show()"
   ]
  },
  {
   "cell_type": "markdown",
   "metadata": {},
   "source": [
    "The southern hemisphere Latitude v Max Temp scatterplot and line regression show a somewhat strong positive correlation: as latitude gets closer to the equator, max temperature increases."
   ]
  },
  {
   "cell_type": "markdown",
   "metadata": {},
   "source": [
    "####  Northern Hemisphere - Humidity (%) vs. Latitude Linear Regression"
   ]
  },
  {
   "cell_type": "code",
   "execution_count": 18,
   "metadata": {},
   "outputs": [
    {
     "name": "stdout",
     "output_type": "stream",
     "text": [
      "The r-value is: 0.37204543556340597\n"
     ]
    },
    {
     "data": {
      "image/png": "[encoded data removed]",
      "text/plain": [
       "<Figure size 432x288 with 1 Axes>"
      ]
     },
     "metadata": {
      "needs_background": "light"
     },
     "output_type": "display_data"
    }
   ],
   "source": [
    "northern_lat = northern_df[\"Lat\"]\n",
    "northern_humidity = northern_df[\"Humidity\"]\n",
    "\n",
    "nh_slope, nh_int, nh_r, nh_p, nh_std_err = stats.linregress(northern_lat, northern_humidity)\n",
    "nh_fit = nh_slope * northern_lat + nh_int\n",
    "line_eq = \"y = \" + str(round(nh_slope,2)) + \"x + \" + str(round(nh_int,2))\n",
    "\n",
    "plt.scatter(northern_lat,northern_humidity)\n",
    "plt.plot(northern_lat,nh_fit,\"r-\")\n",
    "plt.annotate(line_eq,(40,30),fontsize=15,color=\"red\")\n",
    "plt.ylabel('Humidity (%)')\n",
    "plt.xlabel('Latitude')\n",
    "plt.title('Latitude v Humidity (Northern Hemisphere)')\n",
    "\n",
    "print(f\"The r-value is: {nh_r}\")\n",
    "\n",
    "plt.savefig(\"Latitude vs Max Temp (Northern Hemisphere).png\")\n",
    "plt.show()"
   ]
  },
  {
   "cell_type": "markdown",
   "metadata": {},
   "source": [
    "The northern hemisphere latitude v humidity scatterplot and line regression show a weak positive correlation between latitude and humidity: as latitude goes further from the equator, humidity tends to increase."
   ]
  },
  {
   "cell_type": "markdown",
   "metadata": {},
   "source": [
    "####  Southern Hemisphere - Humidity (%) vs. Latitude Linear Regression"
   ]
  },
  {
   "cell_type": "code",
   "execution_count": 19,
   "metadata": {},
   "outputs": [
    {
     "name": "stdout",
     "output_type": "stream",
     "text": [
      "The r-value is: 0.042027463690863694\n"
     ]
    },
    {
     "data": {
      "image/png": "[encoded data removed]",
      "text/plain": [
       "<Figure size 432x288 with 1 Axes>"
      ]
     },
     "metadata": {
      "needs_background": "light"
     },
     "output_type": "display_data"
    }
   ],
   "source": [
    "southern_lat = southern_df[\"Lat\"]\n",
    "southern_humidity = southern_df[\"Humidity\"]\n",
    "\n",
    "sh_slope, sh_int, sh_r, sh_p, sh_std_err = stats.linregress(southern_lat, southern_humidity)\n",
    "sh_fit = sh_slope * southern_lat + sh_int\n",
    "line_eq = \"y = \" + str(round(sh_slope,2)) + \"x + \" + str(round(sh_int,2))\n",
    "\n",
    "plt.scatter(southern_lat,southern_humidity)\n",
    "plt.plot(southern_lat,sh_fit,\"r-\")\n",
    "plt.annotate(line_eq,(-50,10),fontsize=15,color=\"red\")\n",
    "plt.ylabel('Humidity (%)')\n",
    "plt.xlabel('Latitude')\n",
    "plt.title('Latitude v Humidity (Southern Hemisphere)')\n",
    "\n",
    "print(f\"The r-value is: {sh_r}\")\n",
    "\n",
    "plt.savefig(\"Latitude v Max Temp (Southern Hemisphere).png\")\n",
    "plt.show()"
   ]
  },
  {
   "cell_type": "markdown",
   "metadata": {},
   "source": [
    "The southern hemisphere latitude v humidity scatterplot and line regression show almost no correlation."
   ]
  },
  {
   "cell_type": "markdown",
   "metadata": {},
   "source": [
    "####  Northern Hemisphere - Cloudiness (%) vs. Latitude Linear Regression"
   ]
  },
  {
   "cell_type": "code",
   "execution_count": 20,
   "metadata": {},
   "outputs": [
    {
     "name": "stdout",
     "output_type": "stream",
     "text": [
      "The r-value is: 0.17243566503702834\n"
     ]
    },
    {
     "data": {
      "image/png": "[encoded data removed]",
      "text/plain": [
       "<Figure size 432x288 with 1 Axes>"
      ]
     },
     "metadata": {
      "needs_background": "light"
     },
     "output_type": "display_data"
    }
   ],
   "source": [
    "northern_lat = northern_df[\"Lat\"]\n",
    "northern_cloud = northern_df[\"Cloudiness\"]\n",
    "\n",
    "nc_slope, nc_int, nc_r, nc_p, nc_std_err = stats.linregress(northern_lat, northern_cloud)\n",
    "nc_fit = nh_slope * northern_lat + nc_int\n",
    "line_eq = \"y = \" + str(round(nc_slope,2)) + \"x + \" + str(round(nc_int,2))\n",
    "\n",
    "plt.scatter(northern_lat,northern_cloud)\n",
    "plt.plot(northern_lat,nh_fit,\"r-\")\n",
    "plt.annotate(line_eq,(-10,-10),fontsize=15,color=\"red\")\n",
    "plt.ylabel('Cloudiness (%)')\n",
    "plt.xlabel('Latitude')\n",
    "plt.title('Latitude v Cloudiness (Northern Hemisphere)')\n",
    "\n",
    "print(f\"The r-value is: {nc_r}\")\n",
    "\n",
    "plt.savefig(\"Latitude v Cloudiness (Northern Hemisphere).png\")\n",
    "plt.show()"
   ]
  },
  {
   "cell_type": "markdown",
   "metadata": {},
   "source": [
    "The northern hemisphere latitude v cloudiness scatterplot and line regression show almost no correlation between the two values."
   ]
  },
  {
   "cell_type": "markdown",
   "metadata": {},
   "source": [
    "####  Southern Hemisphere - Cloudiness (%) vs. Latitude Linear Regression"
   ]
  },
  {
   "cell_type": "code",
   "execution_count": 21,
   "metadata": {},
   "outputs": [
    {
     "name": "stdout",
     "output_type": "stream",
     "text": [
      "The r-value is: 0.06448704251866881\n"
     ]
    },
    {
     "data": {
      "image/png": "[encoded data removed]",
      "text/plain": [
       "<Figure size 432x288 with 1 Axes>"
      ]
     },
     "metadata": {
      "needs_background": "light"
     },
     "output_type": "display_data"
    }
   ],
   "source": [
    "southern_lat = southern_df[\"Lat\"]\n",
    "southern_cloud = southern_df[\"Cloudiness\"]\n",
    "\n",
    "sc_slope, sc_int, sc_r, sc_p, sc_std_err = stats.linregress(southern_lat, southern_cloud)\n",
    "sc_fit = sc_slope * southern_lat + sc_int\n",
    "line_eq = \"y = \" + str(round(sc_slope,2)) + \"x + \" + str(round(sc_int,2))\n",
    "\n",
    "plt.scatter(southern_lat,southern_cloud)\n",
    "plt.plot(southern_lat,sc_fit,\"r-\")\n",
    "plt.annotate(line_eq,(-50,10),fontsize=15,color=\"red\")\n",
    "plt.ylabel('Cloudiness (%)')\n",
    "plt.xlabel('Latitude')\n",
    "plt.title('Latitude v Cloudiness (Southern Hemisphere)')\n",
    "\n",
    "print(f\"The r-value is: {sc_r}\")\n",
    "\n",
    "plt.savefig(\"Latitude v Cloudiness (Southern Hemisphere).png\")\n",
    "plt.show()"
   ]
  },
  {
   "cell_type": "markdown",
   "metadata": {},
   "source": [
    "The southern hemisphere latitude v cloudiness scatterplot and line regression show almost no correlation between the two values."
   ]
  },
  {
   "cell_type": "markdown",
   "metadata": {},
   "source": [
    "####  Northern Hemisphere - Wind Speed (mph) vs. Latitude Linear Regression"
   ]
  },
  {
   "cell_type": "code",
   "execution_count": 22,
   "metadata": {},
   "outputs": [
    {
     "name": "stdout",
     "output_type": "stream",
     "text": [
      "The r-value is: 0.04358150091000097\n"
     ]
    },
    {
     "data": {
      "image/png": "[encoded data removed]",
      "text/plain": [
       "<Figure size 432x288 with 1 Axes>"
      ]
     },
     "metadata": {
      "needs_background": "light"
     },
     "output_type": "display_data"
    }
   ],
   "source": [
    "northern_lat = northern_df[\"Lat\"]\n",
    "northern_wind = northern_df[\"Wind Speed\"]\n",
    "\n",
    "nw_slope, nw_int, nw_r, nw_p, nw_std_err = stats.linregress(northern_lat, northern_wind)\n",
    "nw_fit = nw_slope * northern_lat + nw_int\n",
    "line_eq = \"y = \" + str(round(nw_slope,2)) + \"x + \" + str(round(nw_int,2))\n",
    "\n",
    "plt.scatter(northern_lat,northern_wind)\n",
    "plt.plot(northern_lat,nw_fit,\"r-\")\n",
    "plt.annotate(line_eq,(20,12),fontsize=15,color=\"red\")\n",
    "plt.ylabel('Wind Speed (MPH)')\n",
    "plt.xlabel('Latitude')\n",
    "plt.title('Latitude v Wind Speed (Northern Hemisphere)')\n",
    "\n",
    "print(f\"The r-value is: {nw_r}\")\n",
    "\n",
    "plt.savefig(\"Latitude v Cloudiness (Northern Hemisphere).png\")\n",
    "plt.show()"
   ]
  },
  {
   "cell_type": "markdown",
   "metadata": {},
   "source": [
    "The nothern hemisphere latitude v wind speed scatterplot and line regression shows almost no correlation between the two values."
   ]
  },
  {
   "cell_type": "markdown",
   "metadata": {},
   "source": [
    "####  Southern Hemisphere - Wind Speed (mph) vs. Latitude Linear Regression"
   ]
  },
  {
   "cell_type": "code",
   "execution_count": 23,
   "metadata": {},
   "outputs": [
    {
     "name": "stdout",
     "output_type": "stream",
     "text": [
      "The r-value is: -0.17704804480451464\n"
     ]
    },
    {
     "data": {
      "image/png": "[encoded data removed]",
      "text/plain": [
       "<Figure size 432x288 with 1 Axes>"
      ]
     },
     "metadata": {
      "needs_background": "light"
     },
     "output_type": "display_data"
    }
   ],
   "source": [
    "southern_lat = southern_df[\"Lat\"]\n",
    "southern_wind = southern_df[\"Wind Speed\"]\n",
    "\n",
    "sw_slope, sw_int, sw_r, sc_p, sw_std_err = stats.linregress(southern_lat, southern_wind)\n",
    "sw_fit = sw_slope * southern_lat + sw_int\n",
    "line_eq = \"y = \" + str(round(sw_slope,2)) + \"x + \" + str(round(sw_int,2))\n",
    "\n",
    "plt.scatter(southern_lat,southern_wind)\n",
    "plt.plot(southern_lat,sw_fit,\"r-\")\n",
    "plt.annotate(line_eq,(-50,30),fontsize=15,color=\"red\")\n",
    "plt.ylabel('Wind Speed (MPH)')\n",
    "plt.xlabel('Latitude')\n",
    "plt.title('Latitude v Wind Speed (Southern Hemisphere)')\n",
    "\n",
    "print(f\"The r-value is: {sw_r}\")\n",
    "\n",
    "plt.savefig(\"Latitude v Wind Speed (Southern Hemisphere).png\")\n",
    "plt.show()"
   ]
  },
  {
   "cell_type": "markdown",
   "metadata": {},
   "source": [
    "The southern hemisphere latitude v wind speed scatterplot and line regression show almost no correlation."
   ]
  },
  {
   "cell_type": "markdown",
   "metadata": {},
   "source": [
    "## Analysis\n",
    "\n",
    "Based on the data above, as latitude approaches the equator, temperature increases. There is no evidence of correlation between latitude and wind speed, humidity, or cloudiness. "
   ]
  },
  {
   "cell_type": "code",
   "execution_count": null,
   "metadata": {},
   "outputs": [],
   "source": []
  }
 ],
 "metadata": {
  "anaconda-cloud": {},
  "kernel_info": {
   "name": "python3"
  },
  "kernelspec": {
   "display_name": "Python 3",
   "language": "python",
   "name": "python3"
  },
  "language_info": {
   "codemirror_mode": {
    "name": "ipython",
    "version": 3
   },
   "file_extension": ".py",
   "mimetype": "text/x-python",
   "name": "python",
   "nbconvert_exporter": "python",
   "pygments_lexer": "ipython3",
   "version": "3.6.10"
  },
  "latex_envs": {
   "LaTeX_envs_menu_present": true,
   "autoclose": false,
   "autocomplete": true,
   "bibliofile": "biblio.bib",
   "cite_by": "apalike",
   "current_citInitial": 1,
   "eqLabelWithNumbers": true,
   "eqNumInitial": 1,
   "hotkeys": {
    "equation": "Ctrl-E",
    "itemize": "Ctrl-I"
   },
   "labels_anchors": false,
   "latex_user_defs": false,
   "report_style_numbering": false,
   "user_envs_cfg": false
  },
  "nteract": {
   "version": "0.12.3"
  }
 },
 "nbformat": 4,
 "nbformat_minor": 4
}
